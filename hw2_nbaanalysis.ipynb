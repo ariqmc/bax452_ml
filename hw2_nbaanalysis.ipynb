{
  "cells": [
    {
      "metadata": {
        "_execution_state": "idle",
        "_uuid": "bef5caed3a27080a1986405d97b1d5cebabc240b",
        "_cell_guid": "43832d89-3a3d-45f9-b400-ff41e73bef86"
      },
      "cell_type": "markdown",
      "source": "Exploration of How Social Media Can Predict Winning Metrics Better Than Salary"
    },
    {
      "metadata": {
        "_execution_state": "idle",
        "_uuid": "d2e772d31b3e5e2590ffe0fcd4bff03b5066eaf1",
        "_cell_guid": "cd3d25dd-7b26-4027-99f0-1b1a57871b4b",
        "trusted": false,
        "collapsed": true
      },
      "cell_type": "code",
      "source": "import pandas as pd\nimport statsmodels.api as sm\nimport numpy as np\nimport statsmodels.formula.api as smf\nimport matplotlib.pyplot as plt\nimport seaborn as sns\nfrom sklearn.cluster import KMeans\ncolor = sns.color_palette()\nfrom IPython.core.display import display, HTML\ndisplay(HTML(\"<style>.container { width:100% !important; }</style>\"))\n%matplotlib inline",
      "execution_count": null,
      "outputs": []
    },
    {
      "metadata": {
        "_execution_state": "idle",
        "_uuid": "b8124a26a90759e84ff8438da528db76625943fb",
        "_cell_guid": "851a06c3-3fd4-43c8-a364-4b4c151efb91",
        "trusted": false,
        "collapsed": true
      },
      "cell_type": "code",
      "source": "attendance_valuation_elo_df = pd.read_csv(\"../input/nba_2017_att_val_elo.csv\");attendance_valuation_elo_df.head()",
      "execution_count": null,
      "outputs": []
    },
    {
      "metadata": {
        "_execution_state": "idle",
        "_uuid": "0971e725f7d30ab4129031cacb580fbb745f6bda",
        "_cell_guid": "a38dbdcd-0241-4f3d-bd48-07ca317f7ad3",
        "trusted": false,
        "collapsed": true
      },
      "cell_type": "code",
      "source": "salary_df = pd.read_csv(\"../input/nba_2017_salary.csv\");salary_df.head()\n",
      "execution_count": null,
      "outputs": []
    },
    {
      "metadata": {
        "_execution_state": "idle",
        "_uuid": "66be1d941240fa990df9b054e33d88f84d77a324",
        "_cell_guid": "136c8cd9-3bb9-41e8-962d-d19c1a8cf799",
        "trusted": false,
        "collapsed": true
      },
      "cell_type": "code",
      "source": "pie_df = pd.read_csv(\"../input/nba_2017_pie.csv\");pie_df.head()",
      "execution_count": null,
      "outputs": []
    },
    {
      "metadata": {
        "_execution_state": "idle",
        "_uuid": "16654f89549539568018e54e884d2025ddb1465b",
        "_cell_guid": "5259b810-c7f9-408f-af11-37cfa65801f4",
        "trusted": false,
        "collapsed": true
      },
      "cell_type": "code",
      "source": "plus_minus_df = pd.read_csv(\"../input/nba_2017_real_plus_minus.csv\");plus_minus_df.head()",
      "execution_count": null,
      "outputs": []
    },
    {
      "metadata": {
        "_execution_state": "idle",
        "_uuid": "b625e2f1f0cb6e07ae15e5dcf707b13774506d32",
        "_cell_guid": "4cb58ec9-dcf3-43f3-b308-29cf83f6c390",
        "trusted": false,
        "collapsed": true
      },
      "cell_type": "code",
      "source": "br_stats_df = pd.read_csv(\"../input/nba_2017_br.csv\");br_stats_df.head()",
      "execution_count": null,
      "outputs": []
    },
    {
      "metadata": {
        "_execution_state": "idle",
        "_uuid": "1c86dea6bb3bb5f3c59dbc329eaddb7998a9b4f8",
        "_cell_guid": "7dca3158-912b-49a6-80dd-5139807bcf5c",
        "trusted": false,
        "collapsed": true
      },
      "cell_type": "code",
      "source": "\nplus_minus_df.rename(columns={\"NAME\":\"PLAYER\", \"WINS\": \"WINS_RPM\"}, inplace=True)\nplayers = []\nfor player in plus_minus_df[\"PLAYER\"]:\n    plyr, _ = player.split(\",\")\n    players.append(plyr)\nplus_minus_df.drop([\"PLAYER\"], inplace=True, axis=1)\nplus_minus_df[\"PLAYER\"] = players\nplus_minus_df.head()",
      "execution_count": null,
      "outputs": []
    },
    {
      "metadata": {
        "_execution_state": "idle",
        "_uuid": "f5e22b38e218af1188376d517287d67f4548ffb2",
        "_cell_guid": "636aa199-94a6-4a4f-9fb8-f5dbd46d65eb",
        "trusted": false,
        "collapsed": true
      },
      "cell_type": "code",
      "source": "\nnba_players_df = br_stats_df.copy()\nnba_players_df.rename(columns={'Player': 'PLAYER','Pos':'POSITION', 'Tm': \"TEAM\", 'Age': 'AGE', \"PS/G\": \"POINTS\"}, inplace=True)\nnba_players_df.drop([\"G\", \"GS\", \"TEAM\"], inplace=True, axis=1)\nnba_players_df = nba_players_df.merge(plus_minus_df, how=\"inner\", on=\"PLAYER\")\nnba_players_df.head()",
      "execution_count": null,
      "outputs": []
    },
    {
      "metadata": {
        "_execution_state": "idle",
        "_uuid": "79d5eb953faaf5c006a5b58d37308fc4207a8a36",
        "_cell_guid": "b91dfbb7-499f-4242-b7da-aca13e83aaad",
        "trusted": false,
        "collapsed": true
      },
      "cell_type": "code",
      "source": "\npie_df_subset = pie_df[[\"PLAYER\", \"PIE\", \"PACE\", \"W\"]].copy()\nnba_players_df = nba_players_df.merge(pie_df_subset, how=\"inner\", on=\"PLAYER\")\nnba_players_df.head()",
      "execution_count": null,
      "outputs": []
    },
    {
      "metadata": {
        "_execution_state": "idle",
        "_uuid": "24389104968385909fc9d18dc23a5c7ff25fe358",
        "_cell_guid": "56db05dd-f37d-4033-a119-d9736652c5b8",
        "trusted": false,
        "collapsed": true
      },
      "cell_type": "code",
      "source": "salary_df.rename(columns={'NAME': 'PLAYER'}, inplace=True)\nsalary_df[\"SALARY_MILLIONS\"] = round(salary_df[\"SALARY\"]/1000000, 2)\nsalary_df.drop([\"POSITION\",\"TEAM\", \"SALARY\"], inplace=True, axis=1)\nsalary_df.head()",
      "execution_count": null,
      "outputs": []
    },
    {
      "metadata": {
        "_execution_state": "idle",
        "_uuid": "9d3e18d8724aae678a447c1090f298f5831a306d",
        "_cell_guid": "94ba32f2-c793-4e60-aae4-499095335837",
        "collapsed": true,
        "trusted": false
      },
      "cell_type": "code",
      "source": "diff = list(set(nba_players_df[\"PLAYER\"].values.tolist()) - set(salary_df[\"PLAYER\"].values.tolist()))",
      "execution_count": null,
      "outputs": []
    },
    {
      "metadata": {
        "_execution_state": "idle",
        "_uuid": "8e32c634db5bcbef08ee3d90b954a39a0aecb662",
        "_cell_guid": "8eaf9215-bd26-4143-be65-64fd06aebeb5",
        "trusted": false,
        "collapsed": true
      },
      "cell_type": "code",
      "source": "len(diff)\n",
      "execution_count": null,
      "outputs": []
    },
    {
      "metadata": {
        "_execution_state": "idle",
        "_uuid": "74ea75d72c6cb0cabf2c9bdeb7636dfff00793e9",
        "_cell_guid": "2829722c-4fd8-4940-b588-2ad40ed173a3",
        "collapsed": true,
        "trusted": false
      },
      "cell_type": "code",
      "source": "\nnba_players_with_salary_df = nba_players_df.merge(salary_df); ",
      "execution_count": null,
      "outputs": []
    },
    {
      "metadata": {
        "_cell_guid": "bfd9ea5b-d9c4-439f-9939-64ba43d727f4",
        "_uuid": "77ed82bd91a4ae987900b22b6e6a9bad55bfe9cd",
        "trusted": false,
        "collapsed": true
      },
      "cell_type": "code",
      "source": "import matplotlib.mlab as mlab\nimport matplotlib.pyplot as plt\n\nplt.hist(nba_players_with_salary_df['RPM'])\nplt.ylabel(\"Distribution\")\nplt.xlabel(\"RPM\")\nplt.show()",
      "execution_count": null,
      "outputs": []
    },
    {
      "metadata": {
        "_cell_guid": "b7e59c37-c731-49e1-964a-8e49c0ae2737",
        "_uuid": "15ec97599b0c239b2b9185e8d38a3d5e977b4365",
        "trusted": false,
        "collapsed": true
      },
      "cell_type": "code",
      "source": "import matplotlib.pyplot\nimport pylab\n\nmatplotlib.pyplot.scatter(nba_players_with_salary_df['RPM'],nba_players_with_salary_df['PIE'])\nmatplotlib.pyplot.show()",
      "execution_count": null,
      "outputs": []
    },
    {
      "metadata": {
        "_cell_guid": "5090e14d-8ca4-4006-a5ab-5fb9ac7897cc",
        "_uuid": "b49653bf688942de82f7a075b2bf762217696cf8",
        "trusted": false,
        "collapsed": true
      },
      "cell_type": "code",
      "source": "matplotlib.pyplot.scatter(nba_players_with_salary_df['RPM'],nba_players_with_salary_df['SALARY_MILLIONS'])\nmatplotlib.pyplot.show()",
      "execution_count": null,
      "outputs": []
    },
    {
      "metadata": {
        "_cell_guid": "fcee4e02-218f-408f-82fa-46b31e5a55a6",
        "_uuid": "5627bafca694ce7870ea3626814a5bbe6deb079e",
        "trusted": false,
        "collapsed": true
      },
      "cell_type": "code",
      "source": "matplotlib.pyplot.scatter(nba_players_with_salary_df['W'],nba_players_with_salary_df['SALARY_MILLIONS'])\nmatplotlib.pyplot.show()",
      "execution_count": null,
      "outputs": []
    },
    {
      "metadata": {
        "_cell_guid": "9dbfa7a4-1ecc-4561-9634-f1cfc3d56d59",
        "_uuid": "08659feabacea3171fa885eb07da8dc9d9c749b3",
        "trusted": false,
        "collapsed": true
      },
      "cell_type": "code",
      "source": "matplotlib.pyplot.scatter(nba_players_with_salary_df['RPM'],nba_players_with_salary_df['W'])\nmatplotlib.pyplot.show()",
      "execution_count": null,
      "outputs": []
    },
    {
      "metadata": {
        "_cell_guid": "ac922a39-2a53-403b-abd2-bd6a793fd2f0",
        "_uuid": "3999713c8516da32eb938d939c451f4d9b2d82d7",
        "trusted": false,
        "collapsed": true
      },
      "cell_type": "code",
      "source": "matplotlib.pyplot.scatter(nba_players_with_salary_df['WINS_RPM'],nba_players_with_salary_df['W'])\nmatplotlib.pyplot.show()",
      "execution_count": null,
      "outputs": []
    },
    {
      "metadata": {
        "_cell_guid": "d4134107-a076-4586-93c7-c8948abb94e7",
        "_uuid": "1bab2265a6141215cd28cc3b6f24ee0ab053f379",
        "trusted": false,
        "collapsed": true
      },
      "cell_type": "code",
      "source": "results = smf.ols('WINS_RPM ~RPM + W', data=nba_players_with_salary_df).fit()\nprint(results.summary())",
      "execution_count": null,
      "outputs": []
    },
    {
      "metadata": {
        "_cell_guid": "f3df2c83-307e-41f1-a175-ca6de18cc355",
        "_uuid": "6636c8b4712b4f90f1d70ae91f77cacaa4f48c00",
        "trusted": false,
        "collapsed": true
      },
      "cell_type": "code",
      "source": "nba_players_with_salary_df.dtypes",
      "execution_count": null,
      "outputs": []
    },
    {
      "metadata": {
        "_cell_guid": "d791ad61-d191-446f-ad2c-9f0323e349fc",
        "_uuid": "bbace11a9a896fe9849b3eb2652f29be0bd3c533",
        "trusted": false,
        "collapsed": true
      },
      "cell_type": "code",
      "source": "x = nba_players_with_salary_df.drop(['RPM','PLAYER','POSITION','TEAM','WINS_RPM'], axis = 1)\ny = nba_players_with_salary_df['RPM']\n\nresults = smf.ols('y ~ x', data = nba_players_with_salary_df).fit()\nprint(results.summary())",
      "execution_count": null,
      "outputs": []
    },
    {
      "metadata": {
        "_cell_guid": "e0e88f3c-6616-4765-a738-07b3ac55a86a",
        "_uuid": "5913803f037ba292a3331ca2c91f3ee7b62b7b27",
        "trusted": false,
        "collapsed": true
      },
      "cell_type": "code",
      "source": "results = smf.ols('RPM ~ .', data=nba_players_with_salary_df).fit()\nprint(results.summary())",
      "execution_count": null,
      "outputs": []
    },
    {
      "metadata": {
        "_execution_state": "idle",
        "_uuid": "d239ec863fc5bb49b320a9a275293a701339fe2f",
        "_cell_guid": "24ad6cfd-055f-433b-9eb7-b713e6d23027",
        "trusted": false,
        "collapsed": true
      },
      "cell_type": "code",
      "source": "\nplt.subplots(figsize=(20,15))\nax = plt.axes()\nax.set_title(\"NBA Player Correlation Heatmap:  2016-2017 Season (STATS & SALARY)\")\ncorr = nba_players_with_salary_df.corr()\nsns.heatmap(corr, \n            xticklabels=corr.columns.values,\n            yticklabels=corr.columns.values)",
      "execution_count": null,
      "outputs": []
    },
    {
      "metadata": {
        "_execution_state": "idle",
        "_uuid": "eaacf610e4a90c4aab11deb4f32ad4a544284ff9",
        "_cell_guid": "271d6e57-63fe-41ad-81ca-6aec76eaeb50",
        "trusted": false,
        "collapsed": true
      },
      "cell_type": "code",
      "source": "sns.lmplot(x=\"SALARY_MILLIONS\", y=\"WINS_RPM\", data=nba_players_with_salary_df)\n",
      "execution_count": null,
      "outputs": []
    },
    {
      "metadata": {
        "_execution_state": "idle",
        "_uuid": "fb5f13125dd71ad928966705e6f0a273cf356cf9",
        "_cell_guid": "4a84ccd3-ecb3-4119-b522-a1a29cf93b62",
        "collapsed": true,
        "trusted": false
      },
      "cell_type": "code",
      "source": "results = smf.ols('W ~POINTS', data=nba_players_with_salary_df).fit()\n",
      "execution_count": null,
      "outputs": []
    },
    {
      "metadata": {
        "_execution_state": "idle",
        "_uuid": "3bf255790a477270d10f7a2eb85614b4c6d52dba",
        "_cell_guid": "63d73e91-3993-4fb9-aff0-5086c61e806e",
        "trusted": false,
        "collapsed": true
      },
      "cell_type": "code",
      "source": "print(results.summary())\n",
      "execution_count": null,
      "outputs": []
    },
    {
      "metadata": {
        "_execution_state": "idle",
        "_uuid": "7021e4fc4fcebc15476fb3080889241000e666b2",
        "_cell_guid": "c7a621de-cea1-4d54-86cd-4dd1f060dabb",
        "collapsed": true,
        "trusted": false
      },
      "cell_type": "code",
      "source": "results = smf.ols('W ~WINS_RPM', data=nba_players_with_salary_df).fit()\n",
      "execution_count": null,
      "outputs": []
    },
    {
      "metadata": {
        "_execution_state": "idle",
        "_uuid": "1ce1f54e86f699c3dca7a52aecfc0945c8a5ffca",
        "_cell_guid": "244ab399-48fd-4d0a-9fa8-a198ceca2dff",
        "trusted": false,
        "collapsed": true
      },
      "cell_type": "code",
      "source": "print(results.summary())\n",
      "execution_count": null,
      "outputs": []
    },
    {
      "metadata": {
        "_execution_state": "idle",
        "_uuid": "d54b34e394db2feb9a3ac55a45093f95f5281226",
        "_cell_guid": "439e9151-9fc7-4d08-bb44-6865ce2be376",
        "collapsed": true,
        "trusted": false
      },
      "cell_type": "code",
      "source": "results = smf.ols('SALARY_MILLIONS ~POINTS', data=nba_players_with_salary_df).fit()\n",
      "execution_count": null,
      "outputs": []
    },
    {
      "metadata": {
        "_execution_state": "idle",
        "_uuid": "f8f71b25af017a8d8c439894a55223ba3194345e",
        "_cell_guid": "90c6cf1d-33bd-497d-973e-5f3f7c1459f2",
        "trusted": false,
        "collapsed": true
      },
      "cell_type": "code",
      "source": "print(results.summary())\n",
      "execution_count": null,
      "outputs": []
    },
    {
      "metadata": {
        "_execution_state": "idle",
        "_uuid": "f1d0e19e6f892816da9cbb67415e1d4e4f920cd9",
        "_cell_guid": "e01962db-34cd-49b9-9a13-b6788f98d065",
        "collapsed": true,
        "trusted": false
      },
      "cell_type": "code",
      "source": "results = smf.ols('SALARY_MILLIONS ~WINS_RPM', data=nba_players_with_salary_df).fit()\n",
      "execution_count": null,
      "outputs": []
    },
    {
      "metadata": {
        "_execution_state": "idle",
        "_uuid": "f8e337aaf781dce576a87a461c684db5e56e682b",
        "_cell_guid": "920b6955-4b63-4686-8b2d-966484938b05",
        "trusted": false,
        "collapsed": true
      },
      "cell_type": "code",
      "source": "print(results.summary())\n",
      "execution_count": null,
      "outputs": []
    },
    {
      "metadata": {
        "_execution_state": "idle",
        "_uuid": "52c51f963a34e5f51773e4a5aca47b7477aaf203",
        "_cell_guid": "03291bbf-ae1f-4db9-a965-0e7a8d49178e",
        "trusted": false,
        "collapsed": true
      },
      "cell_type": "code",
      "source": "from ggplot import *\n",
      "execution_count": null,
      "outputs": []
    },
    {
      "metadata": {
        "_execution_state": "idle",
        "_uuid": "71e467b9c31b20ee9b6bff91da2c16d875a099b8",
        "_cell_guid": "6a5f8045-2666-43f2-8d24-4c3068976b85",
        "trusted": false,
        "collapsed": true
      },
      "cell_type": "code",
      "source": "\np = ggplot(nba_players_with_salary_df,aes(x=\"POINTS\", y=\"WINS_RPM\", color=\"SALARY_MILLIONS\")) + geom_point(size=200)\np + xlab(\"POINTS/GAME\") + ylab(\"WINS/RPM\") + ggtitle(\"NBA Players 2016-2017:  POINTS/GAME, WINS REAL PLUS MINUS and SALARY\")",
      "execution_count": null,
      "outputs": []
    },
    {
      "metadata": {
        "_execution_state": "idle",
        "_uuid": "713a64d0e1b6281d96954104580cd2a76fb5bb36",
        "_cell_guid": "d2fe2d6e-d1f0-4d67-b10f-955d8d9c91ea",
        "trusted": false,
        "collapsed": true
      },
      "cell_type": "code",
      "source": "wiki_df = pd.read_csv(\"../input/nba_2017_player_wikipedia.csv\");wiki_df.head()\n",
      "execution_count": null,
      "outputs": []
    },
    {
      "metadata": {
        "_execution_state": "idle",
        "_uuid": "44a69072586aee96ae3bcdc286a48f246e471ddf",
        "_cell_guid": "a0e655e1-c416-4431-bdc3-ecc824b8f1bb",
        "collapsed": true,
        "trusted": false
      },
      "cell_type": "code",
      "source": "wiki_df.rename(columns={'names': 'PLAYER', \"pageviews\": \"PAGEVIEWS\"}, inplace=True)\n",
      "execution_count": null,
      "outputs": []
    },
    {
      "metadata": {
        "_execution_state": "idle",
        "_uuid": "32835011aff38d26fe73382fd2c4a47ef16f9932",
        "_cell_guid": "3f478640-c1d9-41ec-92b9-3aaab92b6198",
        "collapsed": true,
        "trusted": false
      },
      "cell_type": "code",
      "source": "median_wiki_df = wiki_df.groupby(\"PLAYER\").median()\n",
      "execution_count": null,
      "outputs": []
    },
    {
      "metadata": {
        "_execution_state": "idle",
        "_uuid": "bb83faed0833eada820f979d68b736479bf6172c",
        "_cell_guid": "4c5bb5b5-fd58-49dd-abc4-f67a280a26a3",
        "collapsed": true,
        "trusted": false
      },
      "cell_type": "code",
      "source": "\nmedian_wiki_df_small = median_wiki_df[[\"PAGEVIEWS\"]]",
      "execution_count": null,
      "outputs": []
    },
    {
      "metadata": {
        "_execution_state": "idle",
        "_uuid": "7916dbcce020818840d163dc245e611be814c105",
        "_cell_guid": "e5ed0d84-f209-4a78-98d4-88a1a014de32",
        "collapsed": true,
        "trusted": false
      },
      "cell_type": "code",
      "source": "median_wiki_df_small = median_wiki_df_small.reset_index()\n",
      "execution_count": null,
      "outputs": []
    },
    {
      "metadata": {
        "_execution_state": "idle",
        "_uuid": "7e7f57cabb5656f0d7c77d7f3e8429a16ff92e3e",
        "_cell_guid": "51695f02-413f-4456-b1d1-4d87568e9791",
        "collapsed": true,
        "trusted": false
      },
      "cell_type": "code",
      "source": "nba_players_with_salary_wiki_df = nba_players_with_salary_df.merge(median_wiki_df_small)\n",
      "execution_count": null,
      "outputs": []
    },
    {
      "metadata": {
        "_execution_state": "idle",
        "_uuid": "cb31e25d087d621fe36ca8b30cc8f75b3cb64e37",
        "_cell_guid": "1daf54d9-f29a-485e-8c8e-405add9d3b47",
        "trusted": false,
        "collapsed": true
      },
      "cell_type": "code",
      "source": "twitter_df = pd.read_csv(\"../input/nba_2017_twitter_players.csv\");twitter_df.head()\n",
      "execution_count": null,
      "outputs": []
    },
    {
      "metadata": {
        "_execution_state": "idle",
        "_uuid": "f191d512b7ba18f2b8dbed42aaa2c898a475ed23",
        "_cell_guid": "532761f9-ac5b-42d2-bb66-037bf720c596",
        "collapsed": true,
        "trusted": false
      },
      "cell_type": "code",
      "source": "nba_players_with_salary_wiki_twitter_df = nba_players_with_salary_wiki_df.merge(twitter_df)\n",
      "execution_count": null,
      "outputs": []
    },
    {
      "metadata": {
        "_execution_state": "idle",
        "_uuid": "a8ddae6c1ce3b3b22e41246f9504f29c537711f0",
        "_cell_guid": "3ecba0e0-925c-4c11-96ee-a536cac10f9c",
        "trusted": false,
        "collapsed": true
      },
      "cell_type": "code",
      "source": "nba_players_with_salary_wiki_twitter_df.head()",
      "execution_count": null,
      "outputs": []
    },
    {
      "metadata": {
        "_execution_state": "idle",
        "_uuid": "18a92c6b1d8c974e6142d012d0af3a4edd57a293",
        "_cell_guid": "8feb15c3-edb3-479c-bd1e-81e023d41cba",
        "trusted": false,
        "collapsed": true
      },
      "cell_type": "code",
      "source": "\nplt.subplots(figsize=(20,15))\nax = plt.axes()\nax.set_title(\"NBA Player Correlation Heatmap:  2016-2017 Season (STATS & SALARY & TWITTER & WIKIPEDIA)\")\ncorr = nba_players_with_salary_wiki_twitter_df.corr()\nsns.heatmap(corr, \n            xticklabels=corr.columns.values,\n            yticklabels=corr.columns.values)",
      "execution_count": null,
      "outputs": []
    },
    {
      "metadata": {
        "_execution_state": "idle",
        "_uuid": "0d294cee4c45adb46a21ff9b7c11fedd58a7c0b8",
        "_cell_guid": "242ff026-613e-4f7d-8dad-ff28c0d1e2b2",
        "collapsed": true,
        "trusted": false
      },
      "cell_type": "code",
      "source": "",
      "execution_count": null,
      "outputs": []
    }
  ],
  "metadata": {
    "language_info": {
      "name": "python",
      "file_extension": ".py",
      "pygments_lexer": "ipython3",
      "mimetype": "text/x-python",
      "nbconvert_exporter": "python",
      "version": "3.6.4",
      "codemirror_mode": {
        "version": 3,
        "name": "ipython"
      }
    },
    "kernelspec": {
      "display_name": "Python 3",
      "language": "python",
      "name": "python3"
    }
  },
  "nbformat": 4,
  "nbformat_minor": 1
}
