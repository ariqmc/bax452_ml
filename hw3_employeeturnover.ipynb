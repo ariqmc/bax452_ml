{
  "cells": [
    {
      "metadata": {
        "collapsed": true,
        "_cell_guid": "adfbe30e-7ebb-0f88-d917-d9a8f97c638e",
        "_uuid": "d3fb8901aee3f95962b3281c19ebe619c20936c7",
        "trusted": false
      },
      "cell_type": "code",
      "source": "import numpy as np\nimport pandas as pd \nimport seaborn as sns\nimport matplotlib.pyplot as plt\n%matplotlib inline\n\nattrition = pd.read_csv('../input/WA_Fn-UseC_-HR-Employee-Attrition.csv')\nattrition.head()",
      "execution_count": null,
      "outputs": []
    },
    {
      "metadata": {
        "collapsed": true,
        "_cell_guid": "e2215b2f-6e90-400c-adc1-4e763deecfab",
        "_uuid": "c8f72542534450a2ef7287f1694ef7250f16b6ae",
        "trusted": false
      },
      "cell_type": "code",
      "source": "attrition.dtypes",
      "execution_count": null,
      "outputs": []
    },
    {
      "metadata": {
        "collapsed": true,
        "_cell_guid": "f0324232-c8f5-4751-99ab-79078200e1b2",
        "_uuid": "2d34d5f22e5635f3689a800c6b6f5cedacc2ac7f",
        "trusted": false
      },
      "cell_type": "code",
      "source": "numerical = ['Age', 'DailyRate', 'DistanceFromHome', 'Education', 'EmployeeNumber', 'EnvironmentSatisfaction',\n       'HourlyRate', 'JobInvolvement', 'JobLevel', 'JobSatisfaction',\n       'MonthlyIncome', 'MonthlyRate', 'NumCompaniesWorked',\n       'PercentSalaryHike', 'PerformanceRating', 'RelationshipSatisfaction',\n       'StockOptionLevel', 'TotalWorkingYears',\n       'TrainingTimesLastYear', 'WorkLifeBalance', 'YearsAtCompany',\n       'YearsInCurrentRole', 'YearsSinceLastPromotion',\n       'YearsWithCurrManager']\n\nplt.subplots(figsize=(20,15))\nax = plt.axes()\nax.set_title(\"Employee Data Heatmap\")\ncorr = attrition[numerical].corr()\nsns.heatmap(corr, \n            xticklabels=corr.columns.values,\n            yticklabels=corr.columns.values)",
      "execution_count": null,
      "outputs": []
    },
    {
      "metadata": {
        "_cell_guid": "94e8b02f-9aac-48d8-a668-3f2cf94c8ba8",
        "_uuid": "cfd3cb1220b53c29361997454479580480884829"
      },
      "cell_type": "markdown",
      "source": "This correlation heatmap shows that most variables in the dataset are not closely related. Total working years is one of the few variables with a relatively high correlation with other variables, namely job level, monthly income, and the various variables showing years at the company. \n\nLet's look at total working years against a few possible predictors of turnover (income, job satisfaction, performance rating, gender) to see if there's any possible correlation."
    },
    {
      "metadata": {
        "collapsed": true,
        "_cell_guid": "b441c14f-15d3-485d-8499-ce29a81585a2",
        "_uuid": "abdd824941fe2f6b260478e1e1074a5928c9d129",
        "trusted": false
      },
      "cell_type": "code",
      "source": "attrition['Perf_Rating'] = attrition.PerformanceRating.astype(object)\nattrition['Job_Sat'] = attrition.JobSatisfaction.astype(object)\n\nfrom ggplot import *\n\np = ggplot(aes(x='TotalWorkingYears',y='MonthlyIncome', \n               size = 'Perf_Rating', shape= 'Job_Sat', color = 'Gender'),data=attrition)\np + geom_point() + \\\n    stat_smooth(size = 1, method = 'lm', se=False) + \\\n    facet_grid('Attrition' , 'Department')",
      "execution_count": null,
      "outputs": []
    },
    {
      "metadata": {
        "collapsed": true,
        "_cell_guid": "030a23a0-52fb-4712-8035-5b4574b4bbc0",
        "_uuid": "e3f2018ecd9cce42e3e597bb48a40b4ef08b8310",
        "trusted": false
      },
      "cell_type": "code",
      "source": "from ggplot import *\n\np = ggplot(aes(x='TotalWorkingYears',y='MonthlyIncome'),data=attrition)\np + geom_point() + \\\n    stat_smooth(color = \"red\") + \\\n    facet_wrap(\"Gender\" , \"Attrition\")",
      "execution_count": null,
      "outputs": []
    },
    {
      "metadata": {
        "collapsed": true,
        "_cell_guid": "3c147ffa-2be0-4433-a1ce-272d7cb85309",
        "_uuid": "9ee98187d4f56ead45db582b81ad8d319c9a464f",
        "trusted": false
      },
      "cell_type": "code",
      "source": "#split into test and train dataset\n\n#x = predictors, y = response\nx = attrition.drop(['Attrition'], axis=1)\ny = attrition['Attrition']\n\n#split\nfrom sklearn.cross_validation import train_test_split\nfrom sklearn.cross_validation import StratifiedShuffleSplit\n\nx_train, y_test, y_train, y_test = train_test_split(x, y, test_size=0.3, random_state=0, stratify=y)",
      "execution_count": null,
      "outputs": []
    }
  ],
  "metadata": {
    "language_info": {
      "codemirror_mode": {
        "name": "ipython",
        "version": 3
      },
      "mimetype": "text/x-python",
      "pygments_lexer": "ipython3",
      "nbconvert_exporter": "python",
      "file_extension": ".py",
      "name": "python",
      "version": "3.6.4"
    },
    "kernelspec": {
      "display_name": "Python 3",
      "language": "python",
      "name": "python3"
    },
    "_is_fork": false,
    "_change_revision": 0
  },
  "nbformat": 4,
  "nbformat_minor": 1
}
