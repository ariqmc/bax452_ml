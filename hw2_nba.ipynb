{
  "cells": [
    {
      "metadata": {
        "_cell_guid": "43832d89-3a3d-45f9-b400-ff41e73bef86",
        "_uuid": "bef5caed3a27080a1986405d97b1d5cebabc240b",
        "_execution_state": "idle"
      },
      "cell_type": "markdown",
      "source": "Exploration of How Social Media Can Predict Winning Metrics Better Than Salary"
    },
    {
      "metadata": {
        "_cell_guid": "cd3d25dd-7b26-4027-99f0-1b1a57871b4b",
        "_uuid": "d2e772d31b3e5e2590ffe0fcd4bff03b5066eaf1",
        "_execution_state": "idle",
        "trusted": false,
        "collapsed": true
      },
      "cell_type": "code",
      "source": "import pandas as pd\nimport statsmodels.api as sm\nimport numpy as np\nimport statsmodels.formula.api as smf\nimport matplotlib.pyplot as plt\nimport seaborn as sns\nfrom sklearn.cluster import KMeans\ncolor = sns.color_palette()\nfrom IPython.core.display import display, HTML\ndisplay(HTML(\"<style>.container { width:100% !important; }</style>\"))\n%matplotlib inline",
      "execution_count": null,
      "outputs": []
    },
    {
      "metadata": {
        "_cell_guid": "851a06c3-3fd4-43c8-a364-4b4c151efb91",
        "_uuid": "b8124a26a90759e84ff8438da528db76625943fb",
        "_execution_state": "idle",
        "trusted": false,
        "collapsed": true
      },
      "cell_type": "code",
      "source": "attendance_valuation_elo_df = pd.read_csv(\"../input/nba_2017_att_val_elo.csv\");attendance_valuation_elo_df.head()",
      "execution_count": null,
      "outputs": []
    },
    {
      "metadata": {
        "_cell_guid": "a38dbdcd-0241-4f3d-bd48-07ca317f7ad3",
        "_uuid": "0971e725f7d30ab4129031cacb580fbb745f6bda",
        "_execution_state": "idle",
        "trusted": false,
        "collapsed": true
      },
      "cell_type": "code",
      "source": "salary_df = pd.read_csv(\"../input/nba_2017_salary.csv\");salary_df.head()\n",
      "execution_count": null,
      "outputs": []
    },
    {
      "metadata": {
        "_cell_guid": "136c8cd9-3bb9-41e8-962d-d19c1a8cf799",
        "_uuid": "66be1d941240fa990df9b054e33d88f84d77a324",
        "_execution_state": "idle",
        "trusted": false,
        "collapsed": true
      },
      "cell_type": "code",
      "source": "pie_df = pd.read_csv(\"../input/nba_2017_pie.csv\");pie_df.head()",
      "execution_count": null,
      "outputs": []
    },
    {
      "metadata": {
        "_cell_guid": "5259b810-c7f9-408f-af11-37cfa65801f4",
        "_uuid": "16654f89549539568018e54e884d2025ddb1465b",
        "_execution_state": "idle",
        "trusted": false,
        "collapsed": true
      },
      "cell_type": "code",
      "source": "plus_minus_df = pd.read_csv(\"../input/nba_2017_real_plus_minus.csv\");plus_minus_df.head()",
      "execution_count": null,
      "outputs": []
    },
    {
      "metadata": {
        "_cell_guid": "4cb58ec9-dcf3-43f3-b308-29cf83f6c390",
        "_uuid": "b625e2f1f0cb6e07ae15e5dcf707b13774506d32",
        "_execution_state": "idle",
        "trusted": false,
        "collapsed": true
      },
      "cell_type": "code",
      "source": "br_stats_df = pd.read_csv(\"../input/nba_2017_br.csv\");br_stats_df.head()",
      "execution_count": null,
      "outputs": []
    },
    {
      "metadata": {
        "_cell_guid": "7dca3158-912b-49a6-80dd-5139807bcf5c",
        "_uuid": "1c86dea6bb3bb5f3c59dbc329eaddb7998a9b4f8",
        "_execution_state": "idle",
        "trusted": false,
        "collapsed": true
      },
      "cell_type": "code",
      "source": "\nplus_minus_df.rename(columns={\"NAME\":\"PLAYER\", \"WINS\": \"WINS_RPM\"}, inplace=True)\nplayers = []\nfor player in plus_minus_df[\"PLAYER\"]:\n    plyr, _ = player.split(\",\")\n    players.append(plyr)\nplus_minus_df.drop([\"PLAYER\"], inplace=True, axis=1)\nplus_minus_df[\"PLAYER\"] = players\nplus_minus_df.head()",
      "execution_count": null,
      "outputs": []
    },
    {
      "metadata": {
        "_cell_guid": "636aa199-94a6-4a4f-9fb8-f5dbd46d65eb",
        "_uuid": "f5e22b38e218af1188376d517287d67f4548ffb2",
        "_execution_state": "idle",
        "trusted": false,
        "collapsed": true
      },
      "cell_type": "code",
      "source": "\nnba_players_df = br_stats_df.copy()\nnba_players_df.rename(columns={'Player': 'PLAYER','Pos':'POSITION', 'Tm': \"TEAM\", 'Age': 'AGE', \"PS/G\": \"POINTS\"}, inplace=True)\nnba_players_df.drop([\"G\", \"GS\", \"TEAM\"], inplace=True, axis=1)\nnba_players_df = nba_players_df.merge(plus_minus_df, how=\"inner\", on=\"PLAYER\")\nnba_players_df.head()",
      "execution_count": null,
      "outputs": []
    },
    {
      "metadata": {
        "_cell_guid": "b91dfbb7-499f-4242-b7da-aca13e83aaad",
        "_uuid": "79d5eb953faaf5c006a5b58d37308fc4207a8a36",
        "_execution_state": "idle",
        "trusted": false,
        "collapsed": true
      },
      "cell_type": "code",
      "source": "\npie_df_subset = pie_df[[\"PLAYER\", \"PIE\", \"PACE\", \"W\"]].copy()\nnba_players_df = nba_players_df.merge(pie_df_subset, how=\"inner\", on=\"PLAYER\")\nnba_players_df.head()",
      "execution_count": null,
      "outputs": []
    },
    {
      "metadata": {
        "_cell_guid": "56db05dd-f37d-4033-a119-d9736652c5b8",
        "_uuid": "24389104968385909fc9d18dc23a5c7ff25fe358",
        "_execution_state": "idle",
        "trusted": false,
        "collapsed": true
      },
      "cell_type": "code",
      "source": "salary_df.rename(columns={'NAME': 'PLAYER'}, inplace=True)\nsalary_df[\"SALARY_MILLIONS\"] = round(salary_df[\"SALARY\"]/1000000, 2)\nsalary_df.drop([\"POSITION\",\"TEAM\", \"SALARY\"], inplace=True, axis=1)\nsalary_df.head()",
      "execution_count": null,
      "outputs": []
    },
    {
      "metadata": {
        "collapsed": true,
        "_cell_guid": "94ba32f2-c793-4e60-aae4-499095335837",
        "_uuid": "9d3e18d8724aae678a447c1090f298f5831a306d",
        "_execution_state": "idle",
        "trusted": false
      },
      "cell_type": "code",
      "source": "diff = list(set(nba_players_df[\"PLAYER\"].values.tolist()) - set(salary_df[\"PLAYER\"].values.tolist()))",
      "execution_count": null,
      "outputs": []
    },
    {
      "metadata": {
        "_cell_guid": "8eaf9215-bd26-4143-be65-64fd06aebeb5",
        "_uuid": "8e32c634db5bcbef08ee3d90b954a39a0aecb662",
        "_execution_state": "idle",
        "trusted": false,
        "collapsed": true
      },
      "cell_type": "code",
      "source": "len(diff)\n",
      "execution_count": null,
      "outputs": []
    },
    {
      "metadata": {
        "collapsed": true,
        "_cell_guid": "2829722c-4fd8-4940-b588-2ad40ed173a3",
        "_uuid": "74ea75d72c6cb0cabf2c9bdeb7636dfff00793e9",
        "_execution_state": "idle",
        "trusted": false
      },
      "cell_type": "code",
      "source": "nba_players_with_salary_df = nba_players_df.merge(salary_df); ",
      "execution_count": null,
      "outputs": []
    },
    {
      "metadata": {
        "_cell_guid": "24ad6cfd-055f-433b-9eb7-b713e6d23027",
        "_uuid": "d239ec863fc5bb49b320a9a275293a701339fe2f",
        "_execution_state": "idle",
        "trusted": false,
        "collapsed": true
      },
      "cell_type": "code",
      "source": "plt.subplots(figsize=(20,15))\nax = plt.axes()\nax.set_title(\"NBA Player Correlation Heatmap:  2016-2017 Season (STATS & SALARY)\")\ncorr = nba_players_with_salary_df.corr()\nsns.heatmap(corr, \n            xticklabels=corr.columns.values,\n            yticklabels=corr.columns.values)",
      "execution_count": null,
      "outputs": []
    },
    {
      "metadata": {
        "_cell_guid": "271d6e57-63fe-41ad-81ca-6aec76eaeb50",
        "_uuid": "eaacf610e4a90c4aab11deb4f32ad4a544284ff9",
        "_execution_state": "idle",
        "trusted": false,
        "collapsed": true
      },
      "cell_type": "code",
      "source": "sns.lmplot(x=\"SALARY_MILLIONS\", y=\"WINS_RPM\", data=nba_players_with_salary_df)\n",
      "execution_count": null,
      "outputs": []
    },
    {
      "metadata": {
        "collapsed": true,
        "_cell_guid": "4a84ccd3-ecb3-4119-b522-a1a29cf93b62",
        "_uuid": "fb5f13125dd71ad928966705e6f0a273cf356cf9",
        "_execution_state": "idle",
        "trusted": false
      },
      "cell_type": "code",
      "source": "results = smf.ols('W ~POINTS', data=nba_players_with_salary_df).fit()\n",
      "execution_count": null,
      "outputs": []
    },
    {
      "metadata": {
        "_cell_guid": "63d73e91-3993-4fb9-aff0-5086c61e806e",
        "_uuid": "3bf255790a477270d10f7a2eb85614b4c6d52dba",
        "_execution_state": "idle",
        "trusted": false,
        "collapsed": true
      },
      "cell_type": "code",
      "source": "print(results.summary())\n",
      "execution_count": null,
      "outputs": []
    },
    {
      "metadata": {
        "collapsed": true,
        "_cell_guid": "c7a621de-cea1-4d54-86cd-4dd1f060dabb",
        "_uuid": "7021e4fc4fcebc15476fb3080889241000e666b2",
        "_execution_state": "idle",
        "trusted": false
      },
      "cell_type": "code",
      "source": "results = smf.ols('W ~WINS_RPM', data=nba_players_with_salary_df).fit()\n",
      "execution_count": null,
      "outputs": []
    },
    {
      "metadata": {
        "_cell_guid": "244ab399-48fd-4d0a-9fa8-a198ceca2dff",
        "_uuid": "1ce1f54e86f699c3dca7a52aecfc0945c8a5ffca",
        "_execution_state": "idle",
        "trusted": false,
        "collapsed": true
      },
      "cell_type": "code",
      "source": "print(results.summary())\n",
      "execution_count": null,
      "outputs": []
    },
    {
      "metadata": {
        "collapsed": true,
        "_cell_guid": "439e9151-9fc7-4d08-bb44-6865ce2be376",
        "_uuid": "d54b34e394db2feb9a3ac55a45093f95f5281226",
        "_execution_state": "idle",
        "trusted": false
      },
      "cell_type": "code",
      "source": "results = smf.ols('SALARY_MILLIONS ~POINTS', data=nba_players_with_salary_df).fit()\n",
      "execution_count": null,
      "outputs": []
    },
    {
      "metadata": {
        "_cell_guid": "90c6cf1d-33bd-497d-973e-5f3f7c1459f2",
        "_uuid": "f8f71b25af017a8d8c439894a55223ba3194345e",
        "_execution_state": "idle",
        "trusted": false,
        "collapsed": true
      },
      "cell_type": "code",
      "source": "print(results.summary())\n",
      "execution_count": null,
      "outputs": []
    },
    {
      "metadata": {
        "collapsed": true,
        "_cell_guid": "e01962db-34cd-49b9-9a13-b6788f98d065",
        "_uuid": "f1d0e19e6f892816da9cbb67415e1d4e4f920cd9",
        "_execution_state": "idle",
        "trusted": false
      },
      "cell_type": "code",
      "source": "results = smf.ols('SALARY_MILLIONS ~WINS_RPM', data=nba_players_with_salary_df).fit()\n",
      "execution_count": null,
      "outputs": []
    },
    {
      "metadata": {
        "_cell_guid": "920b6955-4b63-4686-8b2d-966484938b05",
        "_uuid": "f8e337aaf781dce576a87a461c684db5e56e682b",
        "_execution_state": "idle",
        "trusted": false,
        "collapsed": true
      },
      "cell_type": "code",
      "source": "print(results.summary())\n",
      "execution_count": null,
      "outputs": []
    },
    {
      "metadata": {
        "_cell_guid": "03291bbf-ae1f-4db9-a965-0e7a8d49178e",
        "_uuid": "52c51f963a34e5f51773e4a5aca47b7477aaf203",
        "_execution_state": "idle",
        "trusted": false,
        "collapsed": true
      },
      "cell_type": "code",
      "source": "from ggplot import *\n",
      "execution_count": null,
      "outputs": []
    },
    {
      "metadata": {
        "_cell_guid": "6a5f8045-2666-43f2-8d24-4c3068976b85",
        "_uuid": "71e467b9c31b20ee9b6bff91da2c16d875a099b8",
        "_execution_state": "idle",
        "trusted": false,
        "collapsed": true
      },
      "cell_type": "code",
      "source": "\np = ggplot(nba_players_with_salary_df,aes(x=\"POINTS\", y=\"WINS_RPM\", color=\"SALARY_MILLIONS\")) + geom_point(size=200)\np + xlab(\"POINTS/GAME\") + ylab(\"WINS/RPM\") + ggtitle(\"NBA Players 2016-2017:  POINTS/GAME, WINS REAL PLUS MINUS and SALARY\")",
      "execution_count": null,
      "outputs": []
    },
    {
      "metadata": {
        "_cell_guid": "d2fe2d6e-d1f0-4d67-b10f-955d8d9c91ea",
        "_uuid": "713a64d0e1b6281d96954104580cd2a76fb5bb36",
        "_execution_state": "idle",
        "trusted": false,
        "collapsed": true
      },
      "cell_type": "code",
      "source": "wiki_df = pd.read_csv(\"../input/nba_2017_player_wikipedia.csv\");wiki_df.head()\n",
      "execution_count": null,
      "outputs": []
    },
    {
      "metadata": {
        "collapsed": true,
        "_cell_guid": "a0e655e1-c416-4431-bdc3-ecc824b8f1bb",
        "_uuid": "44a69072586aee96ae3bcdc286a48f246e471ddf",
        "_execution_state": "idle",
        "trusted": false
      },
      "cell_type": "code",
      "source": "wiki_df.rename(columns={'names': 'PLAYER', \"pageviews\": \"PAGEVIEWS\"}, inplace=True)\n",
      "execution_count": null,
      "outputs": []
    },
    {
      "metadata": {
        "collapsed": true,
        "_cell_guid": "3f478640-c1d9-41ec-92b9-3aaab92b6198",
        "_uuid": "32835011aff38d26fe73382fd2c4a47ef16f9932",
        "_execution_state": "idle",
        "trusted": false
      },
      "cell_type": "code",
      "source": "median_wiki_df = wiki_df.groupby(\"PLAYER\").median()\n",
      "execution_count": null,
      "outputs": []
    },
    {
      "metadata": {
        "collapsed": true,
        "_cell_guid": "4c5bb5b5-fd58-49dd-abc4-f67a280a26a3",
        "_uuid": "bb83faed0833eada820f979d68b736479bf6172c",
        "_execution_state": "idle",
        "trusted": false
      },
      "cell_type": "code",
      "source": "\nmedian_wiki_df_small = median_wiki_df[[\"PAGEVIEWS\"]]",
      "execution_count": null,
      "outputs": []
    },
    {
      "metadata": {
        "collapsed": true,
        "_cell_guid": "e5ed0d84-f209-4a78-98d4-88a1a014de32",
        "_uuid": "7916dbcce020818840d163dc245e611be814c105",
        "_execution_state": "idle",
        "trusted": false
      },
      "cell_type": "code",
      "source": "median_wiki_df_small = median_wiki_df_small.reset_index()\n",
      "execution_count": null,
      "outputs": []
    },
    {
      "metadata": {
        "collapsed": true,
        "_cell_guid": "51695f02-413f-4456-b1d1-4d87568e9791",
        "_uuid": "7e7f57cabb5656f0d7c77d7f3e8429a16ff92e3e",
        "_execution_state": "idle",
        "trusted": false
      },
      "cell_type": "code",
      "source": "nba_players_with_salary_wiki_df = nba_players_with_salary_df.merge(median_wiki_df_small)\n",
      "execution_count": null,
      "outputs": []
    },
    {
      "metadata": {
        "_cell_guid": "1daf54d9-f29a-485e-8c8e-405add9d3b47",
        "_uuid": "cb31e25d087d621fe36ca8b30cc8f75b3cb64e37",
        "_execution_state": "idle",
        "trusted": false,
        "collapsed": true
      },
      "cell_type": "code",
      "source": "twitter_df = pd.read_csv(\"../input/nba_2017_twitter_players.csv\");twitter_df.head()\n",
      "execution_count": null,
      "outputs": []
    },
    {
      "metadata": {
        "collapsed": true,
        "_cell_guid": "532761f9-ac5b-42d2-bb66-037bf720c596",
        "_uuid": "f191d512b7ba18f2b8dbed42aaa2c898a475ed23",
        "_execution_state": "idle",
        "trusted": false
      },
      "cell_type": "code",
      "source": "nba_players_with_salary_wiki_twitter_df = nba_players_with_salary_wiki_df.merge(twitter_df)\n",
      "execution_count": null,
      "outputs": []
    },
    {
      "metadata": {
        "_cell_guid": "3ecba0e0-925c-4c11-96ee-a536cac10f9c",
        "_uuid": "a8ddae6c1ce3b3b22e41246f9504f29c537711f0",
        "_execution_state": "idle",
        "trusted": false,
        "collapsed": true
      },
      "cell_type": "code",
      "source": "nba_players_with_salary_wiki_twitter_df.head()",
      "execution_count": null,
      "outputs": []
    },
    {
      "metadata": {
        "_cell_guid": "8feb15c3-edb3-479c-bd1e-81e023d41cba",
        "_uuid": "18a92c6b1d8c974e6142d012d0af3a4edd57a293",
        "_execution_state": "idle",
        "trusted": false,
        "collapsed": true
      },
      "cell_type": "code",
      "source": "\nplt.subplots(figsize=(20,15))\nax = plt.axes()\nax.set_title(\"NBA Player Correlation Heatmap:  2016-2017 Season (STATS & SALARY & TWITTER & WIKIPEDIA)\")\ncorr = nba_players_with_salary_wiki_twitter_df.corr()\nsns.heatmap(corr, \n            xticklabels=corr.columns.values,\n            yticklabels=corr.columns.values)",
      "execution_count": null,
      "outputs": []
    },
    {
      "metadata": {
        "collapsed": true,
        "_cell_guid": "242ff026-613e-4f7d-8dad-ff28c0d1e2b2",
        "_uuid": "0d294cee4c45adb46a21ff9b7c11fedd58a7c0b8",
        "_execution_state": "idle"
      },
      "cell_type": "markdown",
      "source": "In this kernel, I want to find which factors most influence RPM. I will first show why RPM is an important stat to measure, then do some EDA to explore the factors most influence RPM, and thus, winning ballgames."
    },
    {
      "metadata": {
        "_cell_guid": "0454f850-0337-4387-8f18-a1b88f1c8d7e",
        "_uuid": "66e64c85f19bbbb26f407c70200db323f9dda91e",
        "trusted": false,
        "collapsed": true
      },
      "cell_type": "code",
      "source": "#next, we want to see RPM in a scatterplot against some of the other \"objective\" positive outcomes\n#in the dataset, such as PIE, wins, and salary.\n\nimport matplotlib.mlab as mlab\nimport matplotlib.pyplot as plt\nimport pylab\n\nimport matplotlib.pyplot\nimport pylab\n\nmatplotlib.pyplot.scatter(nba_players_with_salary_df['RPM'],nba_players_with_salary_df['PIE'])\nmatplotlib.pyplot.show()",
      "execution_count": null,
      "outputs": []
    },
    {
      "metadata": {
        "_cell_guid": "76396f09-713f-4697-a1b3-a5a76b4fadfa",
        "_uuid": "8f0adf6d95d5aa61d235a7ada9e4136620a8c295",
        "trusted": false,
        "collapsed": true
      },
      "cell_type": "code",
      "source": "matplotlib.pyplot.scatter(nba_players_with_salary_df['RPM'],nba_players_with_salary_df['SALARY_MILLIONS'])\nmatplotlib.pyplot.show()",
      "execution_count": null,
      "outputs": []
    },
    {
      "metadata": {
        "_cell_guid": "0fb73691-8c69-43ce-b079-23cd1e2dbdff",
        "_uuid": "71bf01172a6e1f8700301a5467631ba1b603917e",
        "trusted": false,
        "collapsed": true
      },
      "cell_type": "code",
      "source": "matplotlib.pyplot.scatter(nba_players_with_salary_df['WINS_RPM'],nba_players_with_salary_df['W'])\nmatplotlib.pyplot.show()",
      "execution_count": null,
      "outputs": []
    },
    {
      "metadata": {
        "_cell_guid": "f85029ea-d37c-4a10-8165-da3d391e2c83",
        "_uuid": "cf8b884bded3055954db47ee8c438c8312a430a1",
        "trusted": false,
        "collapsed": true
      },
      "cell_type": "code",
      "source": "matplotlib.pyplot.scatter(nba_players_with_salary_df['W'],nba_players_with_salary_df['SALARY_MILLIONS'])\nmatplotlib.pyplot.show()",
      "execution_count": null,
      "outputs": []
    },
    {
      "metadata": {
        "_cell_guid": "76f99700-4e77-4972-97e3-96391bdb8707",
        "_uuid": "7f6d1eb9871bc6f404dac283735b4d9f6d2070a1",
        "trusted": false,
        "collapsed": true
      },
      "cell_type": "code",
      "source": "matplotlib.pyplot.scatter(nba_players_with_salary_df['RPM'],nba_players_with_salary_df['W'])\nmatplotlib.pyplot.show()",
      "execution_count": null,
      "outputs": []
    },
    {
      "metadata": {
        "_cell_guid": "ad0084b4-9a3d-4b2a-b561-7371c8780258",
        "_uuid": "65f7f0d07d69fca086e122f8a2b15424561bd212",
        "trusted": false,
        "collapsed": true
      },
      "cell_type": "code",
      "source": "sns.lmplot(x=\"RPM\", y=\"W\", data=nba_players_with_salary_wiki_twitter_df)\n",
      "execution_count": null,
      "outputs": []
    },
    {
      "metadata": {
        "_cell_guid": "1beca504-caf6-4a5e-854c-b792ccc8a808",
        "_uuid": "4f871b182d973cfd10ef69cf19ca8bd431eae10e",
        "trusted": false,
        "collapsed": true
      },
      "cell_type": "code",
      "source": "sns.lmplot(x=\"RPM\", y=\"W\", data=nba_players_with_salary_wiki_twitter_df)",
      "execution_count": null,
      "outputs": []
    },
    {
      "metadata": {
        "_cell_guid": "9c2a85ef-ed48-4050-ada0-cb3c18ce3550",
        "_uuid": "b33e6312db8bbbc48300ce74ae27025bf8f04924"
      },
      "cell_type": "markdown",
      "source": "Interestingly, here we see that no player with an RPM above 2.5 has won less than about 30 games. But there are many players who have won less than 30 games, and all of them have an RPM under 2.5. So let's take a closer look at this subset of players to see if we can find anything interesting about them."
    },
    {
      "metadata": {
        "_cell_guid": "3fa3197d-5cbb-440d-9d59-36c564575e1d",
        "_uuid": "020595e2fb73355453493fd27777260779348ecb",
        "trusted": false,
        "collapsed": true
      },
      "cell_type": "code",
      "source": "sum(i > 2.5 for i in nba_players_with_salary_df['RPM'])/len(nba_players_with_salary_df['RPM'])",
      "execution_count": null,
      "outputs": []
    },
    {
      "metadata": {
        "_cell_guid": "28a2005b-6a60-4e6a-bc6b-589f2bf17e8a",
        "_uuid": "929a9e3337d89cee9be96edd2224cc5f6f152e40",
        "trusted": false,
        "collapsed": true
      },
      "cell_type": "code",
      "source": "sns.lmplot(x=\"RPM\", y=\"W\", \n           data=nba_players_with_salary_wiki_twitter_df[(nba_players_with_salary_wiki_twitter_df.RPM >= 2.5)])",
      "execution_count": null,
      "outputs": []
    },
    {
      "metadata": {
        "_cell_guid": "12fa03cf-e8fd-414f-a509-b0e1768a7038",
        "_uuid": "bc80a8241b43e1cc5883c7977d4b547cd75adc10",
        "trusted": false,
        "collapsed": true
      },
      "cell_type": "code",
      "source": "#first we want to see the distribution of RPM in the dataset\n#we see that very few players have an RPM over 4\n\nimport matplotlib.mlab as mlab\nimport matplotlib.pyplot as plt\nimport pylab\n\nplt.hist(nba_players_with_salary_df['RPM'])\nplt.ylabel(\"Distribution\")\nplt.xlabel(\"RPM\")\nplt.show()",
      "execution_count": null,
      "outputs": []
    },
    {
      "metadata": {
        "_cell_guid": "1fb28972-92e3-4412-af3b-506522b92ade",
        "_uuid": "c66b13952626895ec310a140e05034085fa6bc96",
        "trusted": false,
        "collapsed": true
      },
      "cell_type": "code",
      "source": "#first we want to see the distribution of RPM in the dataset\n#we see that very few players have an RPM over 4\n\nimport matplotlib.mlab as mlab\nimport matplotlib.pyplot as plt\nimport pylab\n\nplt.hist(nba_players_with_salary_df['W'])\nplt.ylabel(\"Distribution\")\nplt.xlabel(\"W\")\nplt.show()",
      "execution_count": null,
      "outputs": []
    },
    {
      "metadata": {
        "_cell_guid": "be457b17-4c7f-466e-bd3a-598c962166c6",
        "_uuid": "6f1aeee9552f7a17d6994e44f91ee54992c4fe89"
      },
      "cell_type": "markdown",
      "source": "From the above, we can see that RPM is highly correlated with wins. This is a significant result because it shows that good players are on good teams. We can determine causality, because there are only 30 teams and the best young players are drafted to the worst teams. So if a player is actually good, ie the player has a high RPM, they can elevate their team's number of wins. Let's take a deeper look to find out what factors most affect RPM, so teams can look for key traits in players that will ultimately help elevate their team's level of play."
    },
    {
      "metadata": {
        "_cell_guid": "ff9bd01b-2fed-4663-9e2e-2bdc91648e70",
        "_uuid": "6411265c75d22e024cd65d8b0a08110bdf2f3118",
        "trusted": false,
        "collapsed": true
      },
      "cell_type": "code",
      "source": "nba_players_with_salary_wiki_twitter_df.dtypes",
      "execution_count": null,
      "outputs": []
    },
    {
      "metadata": {
        "_cell_guid": "06e62e1f-74ee-4644-8f45-89e5e769009d",
        "_uuid": "906ab4b67cbfd288090dbfb805db80b8979ccded",
        "trusted": false,
        "collapsed": true
      },
      "cell_type": "code",
      "source": "results = smf.ols('WINS_RPM ~RPM + W', data=nba_players_with_salary_df).fit()\nprint(results.summary())",
      "execution_count": null,
      "outputs": []
    },
    {
      "metadata": {
        "_cell_guid": "e4eec634-a8ad-4027-bf00-5c322d896579",
        "_uuid": "e412bfe6fbf318716dc64cad61f6edcb29d4bd56",
        "trusted": false,
        "collapsed": true
      },
      "cell_type": "code",
      "source": "results = smf.ols('W~ RPM', data=nba_players_with_salary_wiki_twitter_df).fit()\nprint(results.summary())",
      "execution_count": null,
      "outputs": []
    },
    {
      "metadata": {
        "_cell_guid": "9c597cdb-c0e2-47f0-a096-c8f9a0517094",
        "_uuid": "59ad79c794a10e1cf36b620d8eafc8ba4af9cdc9"
      },
      "cell_type": "markdown",
      "source": "Now that we've established the correlation between winning and RPM, let's find out which player stats most affect RPM."
    },
    {
      "metadata": {
        "_cell_guid": "0e1d22c8-7e72-42d6-b041-d72eda7172a9",
        "_uuid": "9cff3d02ceefbde4e3ac6a8f4a0329cf4957e6ef",
        "trusted": false,
        "collapsed": true
      },
      "cell_type": "code",
      "source": "x = nba_players_with_salary_df.drop(['RPM','PLAYER','POSITION','TEAM','WINS_RPM', 'ORPM', 'DRPM', 'W'], axis = 1)\ny = nba_players_with_salary_df['RPM']\n\nresults = smf.ols('y ~ x', data = nba_players_with_salary_df).fit()\nprint(results.summary())",
      "execution_count": null,
      "outputs": []
    },
    {
      "metadata": {
        "_cell_guid": "a847d83d-d2a7-4b34-b88b-002b7c973def",
        "_uuid": "c18e701be47f8fee02df854bcda757739af39460",
        "trusted": false,
        "collapsed": true
      },
      "cell_type": "code",
      "source": "list(x)",
      "execution_count": null,
      "outputs": []
    },
    {
      "metadata": {
        "_cell_guid": "b604215f-acd0-4bf3-bd9f-b6ecc54d9bd5",
        "_uuid": "6c1d636ebe571419d93c2f2223f6d4bc67324f63",
        "trusted": false,
        "collapsed": true
      },
      "cell_type": "code",
      "source": "#the above result is very interesting because it says that assists, steals, blocks, and turnovers have the\n#largest effect on RPM, but points and shooting don't really matter\n#Let's run that regression\n\nresults = smf.ols('RPM ~ AST + STL + BLK + TOV', \n                  data=nba_players_with_salary_wiki_twitter_df).fit()\nprint(results.summary())",
      "execution_count": null,
      "outputs": []
    },
    {
      "metadata": {
        "_cell_guid": "8a806766-e2a7-4d02-82b9-b54814170171",
        "_uuid": "89099df6d8b7b998665931873c76d3e9a1d5ebd5",
        "trusted": false,
        "collapsed": true
      },
      "cell_type": "code",
      "source": "rpm_factors = nba_players_with_salary_wiki_twitter_df[['PLAYER','AST','TOV','STL','BLK', 'RPM', 'W']].copy()\nrpm_factors.head()",
      "execution_count": null,
      "outputs": []
    },
    {
      "metadata": {
        "_cell_guid": "084c1509-17e0-4d6c-9200-7397d643dd00",
        "_uuid": "c8bf8772aa34f4afd233984ed8f3252e0bd7c258",
        "trusted": false,
        "collapsed": true
      },
      "cell_type": "code",
      "source": "plt.subplots(figsize=(20,15))\nax = plt.axes()\nax.set_title(\"NBA Player Correlation Heatmap:  Major Factors Affecting RPM)\")\ncorr = rpm_factors.corr()\nsns.heatmap(corr, \n            xticklabels=corr.columns.values,\n            yticklabels=corr.columns.values)",
      "execution_count": null,
      "outputs": []
    },
    {
      "metadata": {
        "_cell_guid": "d2f992ea-f0c5-4446-a17b-624f686674f2",
        "_uuid": "5d5c6cd2663be2233c5975dacfa881f6bd2aa814",
        "trusted": false,
        "collapsed": true
      },
      "cell_type": "code",
      "source": "#Since TOV is no longer significant, let's take it out of the model\n\nresults = smf.ols('RPM ~ AST + STL + BLK', \n                  data=nba_players_with_salary_wiki_twitter_df).fit()\nprint(results.summary())",
      "execution_count": null,
      "outputs": []
    },
    {
      "metadata": {
        "_cell_guid": "33b92c0c-2e93-4b87-a26f-d06bd3339d53",
        "_uuid": "609a56837cde023009e026ac3d5af684eb9408bd"
      },
      "cell_type": "markdown",
      "source": "Since our R^2 barely changes when we take out TOV, we can now say we've narrowed down RPM to just 3 main factors: Assists, Steals, and Blocks! Let us look at each of these variables against RPM, with wins as color."
    },
    {
      "metadata": {
        "_cell_guid": "3d4763d8-c7d0-47b6-bd7c-1e3bc94b1dda",
        "_uuid": "ce215e440eebd68e1eb6dda44d179238b32e8901",
        "trusted": false,
        "collapsed": true
      },
      "cell_type": "code",
      "source": "p = ggplot(nba_players_with_salary_df,aes(x=\"AST\", y=\"RPM\", color=\"W\")) + geom_point(size=200)\np + xlab(\"AST\") + ylab(\"RPM\") + ggtitle(\"NBA Players 2016-2017:  Assists, Real Plus Minus, and Wins\")\n\n#even more linear than I expected!",
      "execution_count": null,
      "outputs": []
    },
    {
      "metadata": {
        "scrolled": true,
        "_cell_guid": "a4606016-657a-4b80-9412-3efb01dafe34",
        "_uuid": "cb77e1ade77cb5612ef28cac5ba58ad2200f917b",
        "trusted": false,
        "collapsed": true
      },
      "cell_type": "code",
      "source": "p = ggplot(nba_players_with_salary_df,aes(x=\"STL\", y=\"RPM\", color=\"W\")) + geom_point(size=200)\np + xlab(\"STL\") + ylab(\"RPM\") + ggtitle(\"NBA Players 2016-2017:  Steals, Real Plus Minus, and Wins\")",
      "execution_count": null,
      "outputs": []
    },
    {
      "metadata": {
        "_cell_guid": "80ed3c56-fe10-4101-93c8-75fdcc1465f3",
        "_uuid": "d2f7da513d7e22b57b4f02b00040369b03349460",
        "trusted": false,
        "collapsed": true
      },
      "cell_type": "code",
      "source": "p = ggplot(nba_players_with_salary_df,aes(x=\"BLK\", y=\"RPM\", color=\"W\")) + geom_point(size=200)\np + xlab(\"BLK\") + ylab(\"RPM\") + ggtitle(\"NBA Players 2016-2017:  Blocks, Real Plus Minus, and Wins\")",
      "execution_count": null,
      "outputs": []
    },
    {
      "metadata": {
        "_cell_guid": "ddfe1a87-6c18-4f02-b395-660c1c265267",
        "_uuid": "0bf5e140035dd901c55fb321950f4969aee4034d"
      },
      "cell_type": "markdown",
      "source": "Let's create a new variable adding assists, steals, and blocks, and see how that correlates with RPM and Wins."
    },
    {
      "metadata": {
        "_cell_guid": "fb7b5e00-60f0-42c8-92f9-0a50fe855765",
        "_uuid": "328e3a6424b0170023adef3993dadab305e15402",
        "trusted": false,
        "collapsed": true
      },
      "cell_type": "code",
      "source": "nba_players_with_salary_df['ASTSTLBLK'] = nba_players_with_salary_df['AST'] + nba_players_with_salary_df['STL'] + nba_players_with_salary_df['BLK']\n\np = ggplot(nba_players_with_salary_df,aes(x=\"ASTSTLBLK\", y=\"RPM\", color=\"W\")) + geom_point(size=200)\np + xlab(\"ASTSTLBLK\") + ylab(\"RPM\") + ggtitle(\"NBA Players 2016-2017:  Steals, Real Plus Minus, and Wins\")",
      "execution_count": null,
      "outputs": []
    },
    {
      "metadata": {
        "_cell_guid": "0d10896b-8c73-4a93-9499-9e9b4d98c7f1",
        "_uuid": "136e9929fd321db6681a637455d2b59f88cb73a5",
        "trusted": false,
        "collapsed": true
      },
      "cell_type": "code",
      "source": "results = smf.ols('RPM ~ASTSTLBLK', \n                  data=nba_players_with_salary_df).fit()\nprint(results.summary())",
      "execution_count": null,
      "outputs": []
    },
    {
      "metadata": {
        "_cell_guid": "86bf66b6-875c-4040-808c-b5122089810b",
        "_uuid": "5495ed41fb4de5365858964bae36705c7d28a47b",
        "trusted": false,
        "collapsed": true
      },
      "cell_type": "code",
      "source": "#Now let's look at aststlblk vs wins\n\nresults = smf.ols('W ~ASTSTLBLK', \n                  data=nba_players_with_salary_df).fit()\nprint(results.summary())",
      "execution_count": null,
      "outputs": []
    },
    {
      "metadata": {
        "_cell_guid": "264ce3cf-391c-450c-93e2-bb95c666ad47",
        "_uuid": "298aa045276727d4bc81d9b283b53cd3e958c3fa",
        "trusted": false,
        "collapsed": true
      },
      "cell_type": "code",
      "source": "p = ggplot(nba_players_with_salary_df,aes(x=\"AGE\", y=\"ASTSTLBLK\", color=\"RPM\")) + geom_point(size=200)\np + xlab(\"AGE\") + ylab(\"ASTSTLBLK\") + ggtitle(\"NBA Players 2016-2017:  Steals, Age, and Real Plus Minus\")",
      "execution_count": null,
      "outputs": []
    },
    {
      "metadata": {
        "_cell_guid": "4a8386a5-970c-449b-a2d1-63a35bc55826",
        "_uuid": "3c35fbc8f5b489dc74761e91d8a61988af8d1416",
        "trusted": false,
        "collapsed": true
      },
      "cell_type": "code",
      "source": "# Number of clusters\nk_means = KMeans(n_clusters=3)\n\n# Choose the columns that the clusters will be based upon\ncluster_source = nba_players_with_salary_df.loc[:,[\"RPM\", \"W\", \"ASTSTLBLK\"]]\n\n# Create the clusters\nkmeans = k_means.fit(cluster_source)\n\n# Create a column, 'cluster,' denoting the cluster classification of each row\nnba_players_with_salary_df['cluster'] = kmeans.labels_\n\n# Create a scatter plot with colors based on the cluster\nax = sns.lmplot(x=\"ASTSTLBLK\", y=\"RPM\", data=nba_players_with_salary_df,hue=\"cluster\", size=12, fit_reg=False)\nax.set(xlabel='ASTSTLBLK', ylabel='RPM', title=\"NBA player Wikipedia ASTSTLBLK vs RPM clustered on ASTSTLBLK, W, RPM:  2016-2017 Season\")",
      "execution_count": null,
      "outputs": []
    },
    {
      "metadata": {
        "_cell_guid": "efdae6b9-7216-4a79-9633-e4351fad84a4",
        "_uuid": "8a0d4eaf24bc139bc64f7bddc9064426fc928be5"
      },
      "cell_type": "markdown",
      "source": "The cluster map above doesn't give us any meaningful results using the aststlblk variable, so let's go back to our central question of how to determine players with RPM > 2.5 with another method: Random Forest Classifier."
    },
    {
      "metadata": {
        "_cell_guid": "136bdaef-a991-43ab-93a9-ecd7b7ebda18",
        "_uuid": "41ff7843bc28208ad84a5999b4072a13001fcbac",
        "trusted": false,
        "collapsed": true
      },
      "cell_type": "code",
      "source": "bins = [-10, 2.5, np.inf]\nlabels = ['Low', 'High']\nnba_players_with_salary_df['High_RPM'] = pd.cut(nba_players_with_salary_df['RPM'],bins,labels=labels)\nnba_players_with_salary_df['High_RPM'].value_counts()",
      "execution_count": null,
      "outputs": []
    },
    {
      "metadata": {
        "_cell_guid": "04234934-3c49-44da-9bcd-90d76d1f6085",
        "_uuid": "5b8b40eaa3c86e0605275a45769ec04a5f62a75b",
        "trusted": false,
        "collapsed": true
      },
      "cell_type": "code",
      "source": "nba_players_with_salary_df[\"3P%\"] = np.where(nba_players_with_salary_df[\"3P%\"].isnull(), 0, nba_players_with_salary_df[\"3P%\"])\nnba_players_with_salary_df[\"FT%\"] = np.where(nba_players_with_salary_df[\"FT%\"].isnull(), 0, nba_players_with_salary_df[\"FT%\"])",
      "execution_count": null,
      "outputs": []
    },
    {
      "metadata": {
        "scrolled": true,
        "_cell_guid": "3fc6dff5-a02d-4855-bfc1-e231fc0b53ca",
        "_uuid": "0f84a10727554293e4a0765edf61bdf8abe2a3e1",
        "trusted": false,
        "collapsed": true
      },
      "cell_type": "code",
      "source": "print(pd.isnull(nba_players_with_salary_df).sum())",
      "execution_count": null,
      "outputs": []
    },
    {
      "metadata": {
        "_cell_guid": "e947d2e6-851e-40b7-b919-4dfc554ce17b",
        "_uuid": "05b67d448ee5bed49ec6dfab65ad9c0520a0205f",
        "trusted": false,
        "collapsed": true
      },
      "cell_type": "code",
      "source": "#tutorial reference: https://www.datacamp.com/community/tutorials/exploratory-data-analysis-python\n\nX = nba_players_with_salary_df.iloc[:,6:25]\nY = nba_players_with_salary_df.iloc[:,-1]\n\nfrom sklearn.ensemble import RandomForestClassifier\n\n# Isolate Data, class labels and column values\nnames = X.columns.values\n\n# Build the model\nrfc = RandomForestClassifier()\n\n# Fit the model\nrfc.fit(X, Y)\n\n# Print the results\nprint(\"Features sorted by their score:\")\nprint(sorted(zip(map(lambda x: round(x, 4), rfc.feature_importances_), names), reverse=True))",
      "execution_count": null,
      "outputs": []
    },
    {
      "metadata": {
        "_cell_guid": "8e0806f6-a4c1-4c28-9a31-4063ce0b614f",
        "_uuid": "a8ccde39eeab414220529366f425927f4611080c"
      },
      "cell_type": "markdown",
      "source": "The above feature importance shows that FTA, FGA, DRB, FT, and eFG% are also important variables in addition to assists, steals, and blocks."
    }
  ],
  "metadata": {
    "kernelspec": {
      "display_name": "Python 3",
      "language": "python",
      "name": "python3"
    },
    "language_info": {
      "file_extension": ".py",
      "codemirror_mode": {
        "version": 3,
        "name": "ipython"
      },
      "mimetype": "text/x-python",
      "nbconvert_exporter": "python",
      "version": "3.6.4",
      "pygments_lexer": "ipython3",
      "name": "python"
    }
  },
  "nbformat": 4,
  "nbformat_minor": 1
}
