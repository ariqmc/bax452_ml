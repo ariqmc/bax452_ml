{
 "cells": [
  {
   "cell_type": "code",
   "execution_count": 66,
   "metadata": {},
   "outputs": [],
   "source": [
    "import pandas as pd\n",
    "import numpy as np\n",
    "from matplotlib import pyplot as plt\n",
    "from matplotlib import cm\n",
    "import seaborn as sns \n",
    "from sklearn.cluster import KMeans\n",
    "from sklearn.metrics import silhouette_samples\n",
    "from sklearn.metrics import silhouette_score\n",
    "%matplotlib inline"
   ]
  },
  {
   "cell_type": "code",
   "execution_count": 67,
   "metadata": {},
   "outputs": [
    {
     "name": "stderr",
     "output_type": "stream",
     "text": [
      "C:\\Users\\Ariq\\Anaconda3\\lib\\site-packages\\IPython\\core\\interactiveshell.py:2698: DtypeWarning: Columns (20,21,22,27,33,34,35,39,41) have mixed types. Specify dtype option on import or set low_memory=False.\n",
      "  interactivity=interactivity, compiler=compiler, result=result)\n"
     ]
    }
   ],
   "source": [
    "golf = pd.read_csv(\"2013 raw pgatour data.csv\")"
   ]
  },
  {
   "cell_type": "code",
   "execution_count": 68,
   "metadata": {},
   "outputs": [
    {
     "data": {
      "text/html": [
       "<div>\n",
       "<style>\n",
       "    .dataframe thead tr:only-child th {\n",
       "        text-align: right;\n",
       "    }\n",
       "\n",
       "    .dataframe thead th {\n",
       "        text-align: left;\n",
       "    }\n",
       "\n",
       "    .dataframe tbody tr th {\n",
       "        vertical-align: top;\n",
       "    }\n",
       "</style>\n",
       "<table border=\"1\" class=\"dataframe\">\n",
       "  <thead>\n",
       "    <tr style=\"text-align: right;\">\n",
       "      <th></th>\n",
       "      <th>Tour Code</th>\n",
       "      <th>Tour Description</th>\n",
       "      <th>Year</th>\n",
       "      <th>Tourn.#</th>\n",
       "      <th>Player #</th>\n",
       "      <th>Course #</th>\n",
       "      <th>Permanent Tournament #</th>\n",
       "      <th>Player First Name</th>\n",
       "      <th>Player Last Name</th>\n",
       "      <th>Round</th>\n",
       "      <th>...</th>\n",
       "      <th>X Coordinate</th>\n",
       "      <th>Y Coordinate</th>\n",
       "      <th>Z Coordinate</th>\n",
       "      <th>Distance from Center</th>\n",
       "      <th>Distance from Edge</th>\n",
       "      <th>Date</th>\n",
       "      <th>Left/Right</th>\n",
       "      <th>Strokes Gained/Baseline</th>\n",
       "      <th>Strokes Gained Category</th>\n",
       "      <th>Recovery Shot</th>\n",
       "    </tr>\n",
       "  </thead>\n",
       "  <tbody>\n",
       "    <tr>\n",
       "      <th>0</th>\n",
       "      <td>R</td>\n",
       "      <td>PGA TOUR</td>\n",
       "      <td>2013</td>\n",
       "      <td>10</td>\n",
       "      <td>6527</td>\n",
       "      <td>656</td>\n",
       "      <td>16</td>\n",
       "      <td>Steve</td>\n",
       "      <td>Stricker</td>\n",
       "      <td>1</td>\n",
       "      <td>...</td>\n",
       "      <td>7,192.85</td>\n",
       "      <td>12,105.93</td>\n",
       "      <td>207.555</td>\n",
       "      <td>259</td>\n",
       "      <td>25</td>\n",
       "      <td>1/7/2013</td>\n",
       "      <td>R</td>\n",
       "      <td>0.498</td>\n",
       "      <td>Off the Tee</td>\n",
       "      <td>No</td>\n",
       "    </tr>\n",
       "    <tr>\n",
       "      <th>1</th>\n",
       "      <td>R</td>\n",
       "      <td>PGA TOUR</td>\n",
       "      <td>2013</td>\n",
       "      <td>10</td>\n",
       "      <td>6527</td>\n",
       "      <td>656</td>\n",
       "      <td>16</td>\n",
       "      <td>Steve</td>\n",
       "      <td>Stricker</td>\n",
       "      <td>1</td>\n",
       "      <td>...</td>\n",
       "      <td>6,683.56</td>\n",
       "      <td>12,133.54</td>\n",
       "      <td>184.413</td>\n",
       "      <td>69</td>\n",
       "      <td>258</td>\n",
       "      <td>1/7/2013</td>\n",
       "      <td>R</td>\n",
       "      <td>-0.295</td>\n",
       "      <td>Approach to the Green</td>\n",
       "      <td>No</td>\n",
       "    </tr>\n",
       "    <tr>\n",
       "      <th>2</th>\n",
       "      <td>R</td>\n",
       "      <td>PGA TOUR</td>\n",
       "      <td>2013</td>\n",
       "      <td>10</td>\n",
       "      <td>6527</td>\n",
       "      <td>656</td>\n",
       "      <td>16</td>\n",
       "      <td>Steve</td>\n",
       "      <td>Stricker</td>\n",
       "      <td>1</td>\n",
       "      <td>...</td>\n",
       "      <td>6,738.09</td>\n",
       "      <td>12,132.13</td>\n",
       "      <td>183.455</td>\n",
       "      <td>6</td>\n",
       "      <td>255</td>\n",
       "      <td>1/7/2013</td>\n",
       "      <td>R</td>\n",
       "      <td>-0.232</td>\n",
       "      <td>Putting</td>\n",
       "      <td>No</td>\n",
       "    </tr>\n",
       "    <tr>\n",
       "      <th>3</th>\n",
       "      <td>R</td>\n",
       "      <td>PGA TOUR</td>\n",
       "      <td>2013</td>\n",
       "      <td>10</td>\n",
       "      <td>6527</td>\n",
       "      <td>656</td>\n",
       "      <td>16</td>\n",
       "      <td>Steve</td>\n",
       "      <td>Stricker</td>\n",
       "      <td>1</td>\n",
       "      <td>...</td>\n",
       "      <td>0</td>\n",
       "      <td>0</td>\n",
       "      <td>0</td>\n",
       "      <td>0</td>\n",
       "      <td>0</td>\n",
       "      <td>1/7/2013</td>\n",
       "      <td>NaN</td>\n",
       "      <td>0.459</td>\n",
       "      <td>Putting</td>\n",
       "      <td>No</td>\n",
       "    </tr>\n",
       "    <tr>\n",
       "      <th>4</th>\n",
       "      <td>R</td>\n",
       "      <td>PGA TOUR</td>\n",
       "      <td>2013</td>\n",
       "      <td>10</td>\n",
       "      <td>6527</td>\n",
       "      <td>656</td>\n",
       "      <td>16</td>\n",
       "      <td>Steve</td>\n",
       "      <td>Stricker</td>\n",
       "      <td>1</td>\n",
       "      <td>...</td>\n",
       "      <td>6,031.29</td>\n",
       "      <td>11,570.16</td>\n",
       "      <td>186.144</td>\n",
       "      <td>188</td>\n",
       "      <td>123</td>\n",
       "      <td>1/7/2013</td>\n",
       "      <td>L</td>\n",
       "      <td>-0.073</td>\n",
       "      <td>Approach to the Green</td>\n",
       "      <td>No</td>\n",
       "    </tr>\n",
       "  </tbody>\n",
       "</table>\n",
       "<p>5 rows × 43 columns</p>\n",
       "</div>"
      ],
      "text/plain": [
       "  Tour Code  Tour Description   Year   Tourn.#   Player #   Course #  \\\n",
       "0         R          PGA TOUR   2013        10       6527        656   \n",
       "1         R          PGA TOUR   2013        10       6527        656   \n",
       "2         R          PGA TOUR   2013        10       6527        656   \n",
       "3         R          PGA TOUR   2013        10       6527        656   \n",
       "4         R          PGA TOUR   2013        10       6527        656   \n",
       "\n",
       "    Permanent Tournament #  Player First Name  Player Last Name   Round  \\\n",
       "0                       16              Steve          Stricker       1   \n",
       "1                       16              Steve          Stricker       1   \n",
       "2                       16              Steve          Stricker       1   \n",
       "3                       16              Steve          Stricker       1   \n",
       "4                       16              Steve          Stricker       1   \n",
       "\n",
       "       ...        X Coordinate  Y Coordinate    Z Coordinate  \\\n",
       "0      ...            7,192.85     12,105.93         207.555   \n",
       "1      ...            6,683.56     12,133.54         184.413   \n",
       "2      ...            6,738.09     12,132.13         183.455   \n",
       "3      ...                   0             0               0   \n",
       "4      ...            6,031.29     11,570.16         186.144   \n",
       "\n",
       "    Distance from Center   Distance from Edge      Date   Left/Right  \\\n",
       "0                    259                   25  1/7/2013            R   \n",
       "1                     69                  258  1/7/2013            R   \n",
       "2                      6                  255  1/7/2013            R   \n",
       "3                      0                    0  1/7/2013          NaN   \n",
       "4                    188                  123  1/7/2013            L   \n",
       "\n",
       "   Strokes Gained/Baseline   Strokes Gained Category  Recovery Shot  \n",
       "0                    0.498               Off the Tee             No  \n",
       "1                   -0.295     Approach to the Green             No  \n",
       "2                   -0.232                   Putting             No  \n",
       "3                    0.459                   Putting             No  \n",
       "4                   -0.073     Approach to the Green             No  \n",
       "\n",
       "[5 rows x 43 columns]"
      ]
     },
     "execution_count": 68,
     "metadata": {},
     "output_type": "execute_result"
    }
   ],
   "source": [
    "golf.head()"
   ]
  },
  {
   "cell_type": "code",
   "execution_count": 69,
   "metadata": {},
   "outputs": [
    {
     "data": {
      "text/plain": [
       "Tour Code                            object\n",
       " Tour Description                    object\n",
       " Year                                 int64\n",
       " Tourn.#                              int64\n",
       " Player #                             int64\n",
       " Course #                             int64\n",
       " Permanent Tournament #               int64\n",
       " Player First Name                   object\n",
       " Player Last Name                    object\n",
       " Round                                int64\n",
       " Tournament Name                     object\n",
       "Course Name                          object\n",
       " Hole                                 int64\n",
       " Hole Score                           int64\n",
       " Par Value                            int64\n",
       " Yardage                              int64\n",
       "  Shot                                int64\n",
       " Shot Type(S/P/D)                    object\n",
       "# of Strokes                          int64\n",
       " From Location(Scorer)               object\n",
       " From Location(Enhanced)             object\n",
       " To Location(Scorer)                 object\n",
       " To Location(Enhanced)               object\n",
       " Distance                             int64\n",
       " Distance to Pin                      int64\n",
       " In the Hole Flag                    object\n",
       " Around the Green Flag               object\n",
       "1st Putt Flag                        object\n",
       " Distance to Hole after the Shot      int64\n",
       " Time                                 int64\n",
       " Lie                                 object\n",
       " Elevation                           object\n",
       " Slope                               object\n",
       " X Coordinate                        object\n",
       " Y Coordinate                        object\n",
       "  Z Coordinate                       object\n",
       " Distance from Center                 int64\n",
       " Distance from Edge                   int64\n",
       " Date                                object\n",
       " Left/Right                          object\n",
       " Strokes Gained/Baseline            float64\n",
       " Strokes Gained Category             object\n",
       " Recovery Shot                       object\n",
       "dtype: object"
      ]
     },
     "execution_count": 69,
     "metadata": {},
     "output_type": "execute_result"
    }
   ],
   "source": [
    "golf.dtypes"
   ]
  },
  {
   "cell_type": "code",
   "execution_count": 84,
   "metadata": {},
   "outputs": [
    {
     "data": {
      "text/html": [
       "<div>\n",
       "<style>\n",
       "    .dataframe thead tr:only-child th {\n",
       "        text-align: right;\n",
       "    }\n",
       "\n",
       "    .dataframe thead th {\n",
       "        text-align: left;\n",
       "    }\n",
       "\n",
       "    .dataframe tbody tr th {\n",
       "        vertical-align: top;\n",
       "    }\n",
       "</style>\n",
       "<table border=\"1\" class=\"dataframe\">\n",
       "  <thead>\n",
       "    <tr style=\"text-align: right;\">\n",
       "      <th></th>\n",
       "      <th>Hole Score</th>\n",
       "      <th>Par Value</th>\n",
       "      <th>Yardage</th>\n",
       "    </tr>\n",
       "  </thead>\n",
       "  <tbody>\n",
       "    <tr>\n",
       "      <th>9990</th>\n",
       "      <td>3</td>\n",
       "      <td>3</td>\n",
       "      <td>176</td>\n",
       "    </tr>\n",
       "    <tr>\n",
       "      <th>9991</th>\n",
       "      <td>3</td>\n",
       "      <td>3</td>\n",
       "      <td>176</td>\n",
       "    </tr>\n",
       "    <tr>\n",
       "      <th>9992</th>\n",
       "      <td>3</td>\n",
       "      <td>4</td>\n",
       "      <td>454</td>\n",
       "    </tr>\n",
       "    <tr>\n",
       "      <th>9993</th>\n",
       "      <td>3</td>\n",
       "      <td>4</td>\n",
       "      <td>454</td>\n",
       "    </tr>\n",
       "    <tr>\n",
       "      <th>9994</th>\n",
       "      <td>3</td>\n",
       "      <td>4</td>\n",
       "      <td>454</td>\n",
       "    </tr>\n",
       "    <tr>\n",
       "      <th>9995</th>\n",
       "      <td>5</td>\n",
       "      <td>5</td>\n",
       "      <td>506</td>\n",
       "    </tr>\n",
       "    <tr>\n",
       "      <th>9996</th>\n",
       "      <td>5</td>\n",
       "      <td>5</td>\n",
       "      <td>506</td>\n",
       "    </tr>\n",
       "    <tr>\n",
       "      <th>9997</th>\n",
       "      <td>5</td>\n",
       "      <td>5</td>\n",
       "      <td>506</td>\n",
       "    </tr>\n",
       "    <tr>\n",
       "      <th>9998</th>\n",
       "      <td>5</td>\n",
       "      <td>5</td>\n",
       "      <td>506</td>\n",
       "    </tr>\n",
       "    <tr>\n",
       "      <th>9999</th>\n",
       "      <td>5</td>\n",
       "      <td>5</td>\n",
       "      <td>506</td>\n",
       "    </tr>\n",
       "  </tbody>\n",
       "</table>\n",
       "</div>"
      ],
      "text/plain": [
       "       Hole Score   Par Value   Yardage\n",
       "9990            3           3       176\n",
       "9991            3           3       176\n",
       "9992            3           4       454\n",
       "9993            3           4       454\n",
       "9994            3           4       454\n",
       "9995            5           5       506\n",
       "9996            5           5       506\n",
       "9997            5           5       506\n",
       "9998            5           5       506\n",
       "9999            5           5       506"
      ]
     },
     "execution_count": 84,
     "metadata": {},
     "output_type": "execute_result"
    }
   ],
   "source": [
    "golf_sub = golf.iloc[0:10000,:]\n",
    "two_var_cluster = golf_sub.iloc[:,[13,14,15]]\n",
    "\n",
    "two_var_cluster.tail(10)"
   ]
  },
  {
   "cell_type": "code",
   "execution_count": 71,
   "metadata": {},
   "outputs": [
    {
     "data": {
      "image/png": "[encoded data removed]",
      "text/plain": [
       "<matplotlib.figure.Figure at 0x23c2806ae48>"
      ]
     },
     "metadata": {},
     "output_type": "display_data"
    }
   ],
   "source": [
    "distortions = []\n",
    "for i in range(1, 11):\n",
    "    km = KMeans(n_clusters=i, init='k-means++', n_init=10, max_iter=300, random_state=0)\n",
    "    km.fit(two_var_cluster)\n",
    "    distortions.append(km.inertia_)\n",
    "    \n",
    "plt.plot(range(1,11), distortions, marker='o')\n",
    "plt.xlabel('Number of clusters')\n",
    "plt.ylabel('Distortion')\n",
    "plt.show()"
   ]
  },
  {
   "cell_type": "code",
   "execution_count": 73,
   "metadata": {},
   "outputs": [
    {
     "data": {
      "image/png": "[encoded data removed]",
      "text/plain": [
       "<matplotlib.figure.Figure at 0x23c2761d860>"
      ]
     },
     "metadata": {},
     "output_type": "display_data"
    }
   ],
   "source": [
    "km = KMeans(n_clusters=2, init='k-means++',n_init=10,max_iter=300, tol=1e-04, random_state=0)\n",
    "y_km = km.fit_predict(two_var_cluster)\n",
    "\n",
    "cluster_labels = np.unique(y_km)\n",
    "n_clusters = cluster_labels.shape[0]\n",
    "silhouette_vals = silhouette_samples(two_var_cluster, y_km, metric='euclidean')\n",
    "\n",
    "y_ax_lower, y_ax_upper = 0, 0\n",
    "yticks = []\n",
    "for i, c in enumerate(cluster_labels):\n",
    "    c_silhouette_vals = silhouette_vals[y_km == c]\n",
    "    c_silhouette_vals.sort()\n",
    "    y_ax_upper += len(c_silhouette_vals)\n",
    "    color = cm.jet(float(i) / n_clusters)\n",
    "    plt.barh(range(y_ax_lower, y_ax_upper),\n",
    "        c_silhouette_vals,\n",
    "        height=1.0,\n",
    "        edgecolor='none',\n",
    "        color=color)\n",
    "    yticks.append((y_ax_lower + y_ax_upper) / 2.)\n",
    "    y_ax_lower += len(c_silhouette_vals)\n",
    "    \n",
    "silhouette_avg = np.mean(silhouette_vals)\n",
    "plt.axvline(silhouette_avg, color=\"red\", linestyle=\"--\")\n",
    "plt.yticks(yticks, cluster_labels + 1)\n",
    "plt.ylabel('Cluster')\n",
    "plt.xlabel('Silhouette coefficient')\n",
    "plt.show()"
   ]
  },
  {
   "cell_type": "code",
   "execution_count": 72,
   "metadata": {},
   "outputs": [
    {
     "data": {
      "image/png": "[encoded data removed]",
      "text/plain": [
       "<matplotlib.figure.Figure at 0x23c2632efd0>"
      ]
     },
     "metadata": {},
     "output_type": "display_data"
    }
   ],
   "source": [
    "km = KMeans(n_clusters=3, init='k-means++',n_init=10,max_iter=300, tol=1e-04, random_state=0)\n",
    "y_km = km.fit_predict(two_var_cluster)\n",
    "\n",
    "cluster_labels = np.unique(y_km)\n",
    "n_clusters = cluster_labels.shape[0]\n",
    "silhouette_vals = silhouette_samples(two_var_cluster, y_km, metric='euclidean')\n",
    "\n",
    "y_ax_lower, y_ax_upper = 0, 0\n",
    "yticks = []\n",
    "for i, c in enumerate(cluster_labels):\n",
    "    c_silhouette_vals = silhouette_vals[y_km == c]\n",
    "    c_silhouette_vals.sort()\n",
    "    y_ax_upper += len(c_silhouette_vals)\n",
    "    color = cm.jet(float(i) / n_clusters)\n",
    "    plt.barh(range(y_ax_lower, y_ax_upper),\n",
    "        c_silhouette_vals,\n",
    "        height=1.0,\n",
    "        edgecolor='none',\n",
    "        color=color)\n",
    "    yticks.append((y_ax_lower + y_ax_upper) / 2.)\n",
    "    y_ax_lower += len(c_silhouette_vals)\n",
    "    \n",
    "silhouette_avg = np.mean(silhouette_vals)\n",
    "plt.axvline(silhouette_avg, color=\"red\", linestyle=\"--\")\n",
    "plt.yticks(yticks, cluster_labels + 1)\n",
    "plt.ylabel('Cluster')\n",
    "plt.xlabel('Silhouette coefficient')\n",
    "plt.show()"
   ]
  },
  {
   "cell_type": "code",
   "execution_count": 74,
   "metadata": {},
   "outputs": [
    {
     "data": {
      "image/png": "[encoded data removed]",
      "text/plain": [
       "<matplotlib.figure.Figure at 0x23c222d5ac8>"
      ]
     },
     "metadata": {},
     "output_type": "display_data"
    }
   ],
   "source": [
    "km = KMeans(n_clusters=4, init='k-means++',n_init=10,max_iter=300, tol=1e-04, random_state=0)\n",
    "y_km = km.fit_predict(two_var_cluster)\n",
    "\n",
    "cluster_labels = np.unique(y_km)\n",
    "n_clusters = cluster_labels.shape[0]\n",
    "silhouette_vals = silhouette_samples(two_var_cluster, y_km, metric='euclidean')\n",
    "\n",
    "y_ax_lower, y_ax_upper = 0, 0\n",
    "yticks = []\n",
    "for i, c in enumerate(cluster_labels):\n",
    "    c_silhouette_vals = silhouette_vals[y_km == c]\n",
    "    c_silhouette_vals.sort()\n",
    "    y_ax_upper += len(c_silhouette_vals)\n",
    "    color = cm.jet(float(i) / n_clusters)\n",
    "    plt.barh(range(y_ax_lower, y_ax_upper),\n",
    "        c_silhouette_vals,\n",
    "        height=1.0,\n",
    "        edgecolor='none',\n",
    "        color=color)\n",
    "    yticks.append((y_ax_lower + y_ax_upper) / 2.)\n",
    "    y_ax_lower += len(c_silhouette_vals)\n",
    "    \n",
    "silhouette_avg = np.mean(silhouette_vals)\n",
    "plt.axvline(silhouette_avg, color=\"red\", linestyle=\"--\")\n",
    "plt.yticks(yticks, cluster_labels + 1)\n",
    "plt.ylabel('Cluster')\n",
    "plt.xlabel('Silhouette coefficient')\n",
    "plt.show()"
   ]
  },
  {
   "cell_type": "code",
   "execution_count": 85,
   "metadata": {},
   "outputs": [
    {
     "name": "stderr",
     "output_type": "stream",
     "text": [
      "C:\\Users\\Ariq\\Anaconda3\\lib\\site-packages\\ipykernel_launcher.py:5: SettingWithCopyWarning: \n",
      "A value is trying to be set on a copy of a slice from a DataFrame.\n",
      "Try using .loc[row_indexer,col_indexer] = value instead\n",
      "\n",
      "See the caveats in the documentation: http://pandas.pydata.org/pandas-docs/stable/indexing.html#indexing-view-versus-copy\n",
      "  \"\"\"\n",
      "C:\\Users\\Ariq\\Anaconda3\\lib\\site-packages\\ipykernel_launcher.py:6: SettingWithCopyWarning: \n",
      "A value is trying to be set on a copy of a slice from a DataFrame.\n",
      "Try using .loc[row_indexer,col_indexer] = value instead\n",
      "\n",
      "See the caveats in the documentation: http://pandas.pydata.org/pandas-docs/stable/indexing.html#indexing-view-versus-copy\n",
      "  \n"
     ]
    },
    {
     "data": {
      "text/plain": [
       "<matplotlib.collections.PathCollection at 0x23c286c91d0>"
      ]
     },
     "execution_count": 85,
     "metadata": {},
     "output_type": "execute_result"
    },
    {
     "data": {
      "image/png": "[encoded data removed]",
      "text/plain": [
       "<matplotlib.figure.Figure at 0x23c279f9a20>"
      ]
     },
     "metadata": {},
     "output_type": "display_data"
    }
   ],
   "source": [
    "k_means = KMeans(n_clusters=3, init='k-means++',n_init=10,max_iter=300, tol=1e-04, random_state=0)\n",
    "kmeans = k_means.fit(two_var_cluster)\n",
    "labels = kmeans.predict(two_var_cluster)\n",
    "\n",
    "golf_sub['cluster'] = labels\n",
    "two_var_cluster['cluster'] = labels\n",
    "\n",
    "plt.scatter(golf_sub.iloc[:, 14], golf_sub.iloc[:, 15], c= golf_sub[\"cluster\"])"
   ]
  },
  {
   "cell_type": "code",
   "execution_count": 86,
   "metadata": {},
   "outputs": [
    {
     "name": "stderr",
     "output_type": "stream",
     "text": [
      "C:\\Users\\Ariq\\Anaconda3\\lib\\site-packages\\pandas\\core\\indexing.py:517: SettingWithCopyWarning: \n",
      "A value is trying to be set on a copy of a slice from a DataFrame.\n",
      "Try using .loc[row_indexer,col_indexer] = value instead\n",
      "\n",
      "See the caveats in the documentation: http://pandas.pydata.org/pandas-docs/stable/indexing.html#indexing-view-versus-copy\n",
      "  self.obj[item] = s\n"
     ]
    },
    {
     "data": {
      "image/png": "[encoded data removed]",
      "text/plain": [
       "<matplotlib.figure.Figure at 0x23c2806af28>"
      ]
     },
     "metadata": {},
     "output_type": "display_data"
    }
   ],
   "source": [
    "golf_sub.loc[golf_sub.cluster == 0, 'cluster'] = 'Par 5'\n",
    "golf_sub.loc[golf_sub.cluster == 1, 'cluster'] = 'Par 4'\n",
    "golf_sub.loc[golf_sub.cluster == 2, 'cluster'] = 'Par 3'\n",
    "\n",
    "golf_sub.head()\n",
    "\n",
    "golf_sub['cluster'].replace({0: 'Par 5', 1: 'Par 4', 2: 'Par 3'})\n",
    "facetplot = sns.FacetGrid(golf_sub, col=\"cluster\")\n",
    "facetplot = facetplot.map(plt.scatter, \" Par Value\", \" Yardage\", marker=\".\")"
   ]
  }
 ],
 "metadata": {
  "kernelspec": {
   "display_name": "Python 3",
   "language": "python",
   "name": "python3"
  },
  "language_info": {
   "codemirror_mode": {
    "name": "ipython",
    "version": 3
   },
   "file_extension": ".py",
   "mimetype": "text/x-python",
   "name": "python",
   "nbconvert_exporter": "python",
   "pygments_lexer": "ipython3",
   "version": "3.6.3"
  }
 },
 "nbformat": 4,
 "nbformat_minor": 2
}
