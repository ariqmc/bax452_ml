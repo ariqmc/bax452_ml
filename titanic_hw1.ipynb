{
  "cells": [
    {
      "metadata": {
        "_cell_guid": "a5bdd469-05fa-46b7-b286-13c826335309",
        "_uuid": "9796769b3dc6c4325b7dec7705140894c2ce733e"
      },
      "cell_type": "markdown",
      "source": "This is my first foray into Kaggle and machine learning. The Titanic dataset is a great place to get started because of the huge amount of tutorials and kernels about this project, many of which I gratefully referenced to help me complete my own kernel. All references are included at the end of this notebook.\n\n1. Import libraries and data\n2. Assess the quality of the data\n3. Transform the data to allow for model building\n4. Perform EDA to find important variables as well as new variables that could be created\n5. Try out different machine learning algorithms\n6. Make final predictions"
    },
    {
      "metadata": {
        "_cell_guid": "adf94a18-c23b-4212-939d-d7a4969bb237",
        "collapsed": true,
        "_kg_hide-output": false,
        "_uuid": "24148e3e3d6b0e48663b8f3f3eec4e073379d8e6",
        "trusted": false
      },
      "cell_type": "code",
      "source": "import numpy as np \nimport pandas as pd \n\n%matplotlib inline\nimport matplotlib.pyplot as plt\nimport seaborn as sns; sns.set()\nfrom sklearn import preprocessing\nfrom sklearn.preprocessing import LabelEncoder\nfrom sklearn.datasets import make_blobs\nfrom sklearn.tree import DecisionTreeClassifier\nfrom sklearn.ensemble import BaggingClassifier\nfrom sklearn.ensemble import RandomForestClassifier\nfrom sklearn.model_selection import train_test_split\nimport xgboost as xgb\n\ntrain_df = pd.read_csv('../input/train.csv')\ntest_df = pd.read_csv('../input/test.csv')\n",
      "execution_count": null,
      "outputs": []
    },
    {
      "metadata": {
        "_cell_guid": "6649f474-a653-4362-97a2-09c6ab85e5e0",
        "_uuid": "c8a92927c70d34f6fd324725183147ca7c9af958",
        "trusted": false,
        "collapsed": true
      },
      "cell_type": "code",
      "source": "train_df.head()",
      "execution_count": null,
      "outputs": []
    },
    {
      "metadata": {
        "_cell_guid": "f4c302b7-fc07-4612-bf67-2dc8e9ca8d79",
        "_uuid": "e6578b9b25478c0ed9cf9a40ed6771af390ec6f0",
        "trusted": false,
        "collapsed": true
      },
      "cell_type": "code",
      "source": "train_df.describe(include=\"all\")",
      "execution_count": null,
      "outputs": []
    },
    {
      "metadata": {
        "_cell_guid": "a46fc7af-5818-4c7e-9b56-d17c1667c6a2",
        "_uuid": "ec375246a3ec0054c079cda6bd93036ada035ddd",
        "trusted": false,
        "collapsed": true
      },
      "cell_type": "code",
      "source": "test_df.head()",
      "execution_count": null,
      "outputs": []
    },
    {
      "metadata": {
        "_cell_guid": "0d16c2fd-2c6e-4870-b94b-6c07c066ee27",
        "_uuid": "f3a98195eae9d5b446de661cf3a715e38a19eacc",
        "trusted": false,
        "collapsed": true
      },
      "cell_type": "code",
      "source": "test_df.describe(include=\"all\")",
      "execution_count": null,
      "outputs": []
    },
    {
      "metadata": {
        "_cell_guid": "0c19e1ca-b9bd-4b08-bf13-a8ee4cfd6600",
        "_uuid": "77875806ea30fe828af10f707fb6c3297a8ccb76",
        "trusted": false,
        "collapsed": true
      },
      "cell_type": "code",
      "source": "train_df.dtypes",
      "execution_count": null,
      "outputs": []
    },
    {
      "metadata": {
        "_cell_guid": "706f82b5-905b-4f7f-a484-c513be9208db",
        "_uuid": "6b81f0b229fc6990121e8f534cb2de6feb8d1f0b"
      },
      "cell_type": "markdown",
      "source": "Int: PassengerId, Survived, Pclass (ticket class), SibSp (# of siblings/spouses aboard), Parch (# of parents/children aboard)\nFloat: Age, Fare\nObject: Name, Sex, Ticket (ticket number), Cabin, Embarked\n\nAge and Cabin are the only two variables for which we need to fill in missing data. Can likely use mean or median for age, but it's a little harder to deal with the missing data in Cabin. \n\nLet's do some exploratory data analysis to see what we can find out about the dataset before building the models.\n\n"
    },
    {
      "metadata": {
        "_cell_guid": "24462815-7de0-4ae5-8ceb-ed067e309506",
        "_uuid": "4b551e97ec92bd1d3949a7f280c340e98dece6b3",
        "trusted": false,
        "collapsed": true
      },
      "cell_type": "code",
      "source": "#first look at age and see how to best deal with missing values\n\ntrain_df['Age'].hist()",
      "execution_count": null,
      "outputs": []
    },
    {
      "metadata": {
        "_cell_guid": "e5bb8293-40e9-438d-8169-965f222be08c",
        "_uuid": "909afe2b3339bb610d2d64b44ae8d66b4c52b6c8",
        "trusted": false,
        "collapsed": true
      },
      "cell_type": "code",
      "source": "#the data is right skewed. Let's take a  look at survival rates by age to see if age is a big factor.\n#If it is not, then we can just impute median. If it is, however, then we will have to find another way.\n\n#let's first group age into 10 bins\n\ntrain_df['AgeBins'] = pd.qcut(train_df['Age'], 7)\nsns.barplot(x=\"AgeBins\", y=\"Survived\", data=train_df)\n\n#we find that babies, and surprisingly 20-36 year olds, have a high survival rate",
      "execution_count": null,
      "outputs": []
    },
    {
      "metadata": {
        "_cell_guid": "f9ba10d6-f7c3-4199-a9bd-1fa9bd318959",
        "_uuid": "ab7f555267a9f057a5327920b95e0c57e6dd96f4",
        "trusted": false,
        "collapsed": true
      },
      "cell_type": "code",
      "source": "#We can also take a look at survival rates based on name title\ntrain_df['Title'] = train_df.Name.str.extract(' ([A-Za-z]+)\\.', expand=False)\ntest_df['Title'] = test_df.Name.str.extract(' ([A-Za-z]+)\\.', expand=False)\nsns.barplot(x=\"Title\", y=\"Survived\", data=train_df)",
      "execution_count": null,
      "outputs": []
    },
    {
      "metadata": {
        "_cell_guid": "818c5617-cbdf-4214-aa98-24cac0894aa4",
        "_uuid": "4ee8b3ddc998f2580100b84d5c792eebe9540a01",
        "trusted": false,
        "collapsed": true
      },
      "cell_type": "code",
      "source": "np.unique(train_df['Title'])\n\n#Since survival rate varies quite a bit by Title, let's impute avg age by title",
      "execution_count": null,
      "outputs": []
    },
    {
      "metadata": {
        "_cell_guid": "680cb8db-0f5c-4765-b280-0a714ae8e971",
        "_uuid": "c6e27c36702ddea5235a990889323a6a9425331d",
        "trusted": false,
        "collapsed": true
      },
      "cell_type": "code",
      "source": "sns.barplot(x=\"Title\", y=\"Age\", data=train_df)",
      "execution_count": null,
      "outputs": []
    },
    {
      "metadata": {
        "_cell_guid": "761622ec-98ed-4b84-8811-d8f543dd79c7",
        "_uuid": "83711b25d019129c0e50b86d8dcda2dcaf8654ff",
        "trusted": false,
        "collapsed": true
      },
      "cell_type": "code",
      "source": "train_df['Title'].value_counts()\n\n#However, looking at this list of ages below, pretty much everyone is either a Mr, Miss, Mrs, or Master.\n#So now we know that title is quite predictive, but it doesn't really help us determine age.\n#So let's impute median age for the missing values. As we saw from the summary up top, 28 is median age.",
      "execution_count": null,
      "outputs": []
    },
    {
      "metadata": {
        "_cell_guid": "37d8c6ca-aec7-4fc0-8f51-7889839db851",
        "collapsed": true,
        "_uuid": "2379eb2bbc9c8beece0f0698e64d589a33b6d234",
        "trusted": false
      },
      "cell_type": "code",
      "source": "train_df.loc[(train_df.Age.isnull()),'Age'] = train_df[\"Age\"].median()\ntest_df.loc[(test_df.Age.isnull()),'Age'] = test_df[\"Age\"].median()",
      "execution_count": null,
      "outputs": []
    },
    {
      "metadata": {
        "_cell_guid": "ba50e29b-2c28-4659-8f82-30103559718f",
        "collapsed": true,
        "_uuid": "14b7bd889f82598342cd90e83d279824f94d45e7",
        "trusted": false
      },
      "cell_type": "code",
      "source": "#Let's fill out the rest of the missing values in the train \n\ntrain_df['Cabin'].value_counts()\n\n#Since cabin is pretty much unique to the person, we can just drop it from the dataset\n\ntrain_df = train_df.drop(['Cabin'], axis = 1)\ntest_df = test_df.drop(['Cabin'], axis = 1)",
      "execution_count": null,
      "outputs": []
    },
    {
      "metadata": {
        "_cell_guid": "1b784e1f-7287-4e44-93de-d7a7d242945d",
        "collapsed": true,
        "_uuid": "4384fc51a3153ec0ef76f71624ec8c9ba1c207e9",
        "trusted": false
      },
      "cell_type": "code",
      "source": "train_df['Embarked'].value_counts()\n\n#Since S is most common and there's only two missing, let's bring S for the two missing values\n#Only one missing fare (in test dataset), so replace that with mean test fare\ntrain_df['Embarked'].fillna(\"S\", inplace=True)\ntest_df['Fare'].fillna(35.6, inplace=True)\n\n#Let's also drop the AgeBins variable since it doesn't tell us anything more than what age already does\ntrain_df = train_df.drop(['AgeBins'], axis = 1)",
      "execution_count": null,
      "outputs": []
    },
    {
      "metadata": {
        "_cell_guid": "82fc6232-88c8-441d-ba03-9c8e84173f46",
        "_uuid": "a6209fc9732ce20e2a5e03f9545702380fbaad03",
        "trusted": false,
        "collapsed": true
      },
      "cell_type": "code",
      "source": "train_df.describe(include=\"all\")",
      "execution_count": null,
      "outputs": []
    },
    {
      "metadata": {
        "_cell_guid": "5c9d9c73-c68f-47b3-8be3-d682d76fd456",
        "_uuid": "296d04ac79fac45a33a2069218c2ffa64fb0d8b3",
        "trusted": false,
        "collapsed": true
      },
      "cell_type": "code",
      "source": "test_df.describe(include=\"all\")",
      "execution_count": null,
      "outputs": []
    },
    {
      "metadata": {
        "_cell_guid": "7c71ca12-92a4-4410-a03d-db5d5ee2bfb5",
        "_uuid": "99f69071aaa41757900ffab539a6c72cc4651d1c"
      },
      "cell_type": "markdown",
      "source": "Now that both the test and train datasets have the same columns (besides 'Survived') and no missing values, let's do some EDA and build our model."
    },
    {
      "metadata": {
        "_cell_guid": "aac7a912-09e1-41f3-88a4-7ae7cef88418",
        "_uuid": "33791f08028c4028388a4847037a74e062e17588",
        "trusted": false,
        "collapsed": true
      },
      "cell_type": "code",
      "source": "#Let's see how each variable correlates to survival rates.\n#But first, let's see which variables are unique to passenger\n#We can drop Name since it's unique to each passenger and we have already pulled out Title\n#Let's see if ticket is unique\n\ntest_df.describe(include=\"all\")",
      "execution_count": null,
      "outputs": []
    },
    {
      "metadata": {
        "_cell_guid": "9bbcc814-f55d-4229-82e6-f5aec9819f48",
        "_uuid": "0ec1fbcd494369663ad47cfca2471dba09fe9814",
        "trusted": false,
        "collapsed": true
      },
      "cell_type": "code",
      "source": "train_df[train_df.Ticket == \"347082\"]\n\n#looks like each famiy has the same ticket. So let's keep it in the model for now, though it seems like\n#SibSp and Parch give us the same information.",
      "execution_count": null,
      "outputs": []
    },
    {
      "metadata": {
        "_cell_guid": "5dcab25f-850c-47df-afc2-1af2e280c187",
        "collapsed": true,
        "_uuid": "d95803ab7c968e688b5c923a76d4e5feac8d9b6c",
        "trusted": false
      },
      "cell_type": "code",
      "source": "#So the only variables we'll drop for now is Name\n\ntrain_df = train_df.drop(['Name'], axis = 1)\ntest_df = test_df.drop(['Name'], axis = 1)",
      "execution_count": null,
      "outputs": []
    },
    {
      "metadata": {
        "_cell_guid": "3a892205-9c65-4c4e-be46-e6d4c9f43f86",
        "_uuid": "49e913f7a78dee5e0088887a79f34004df06039e",
        "trusted": false,
        "collapsed": true
      },
      "cell_type": "code",
      "source": "test_df.describe(include=\"all\")",
      "execution_count": null,
      "outputs": []
    },
    {
      "metadata": {
        "_cell_guid": "f5ffa582-aac8-467a-9630-52f013995145",
        "collapsed": true,
        "_uuid": "fccb66895115140c97aa1106f3f1b24c1031e418",
        "trusted": false
      },
      "cell_type": "code",
      "source": "#features = ['Pclass','Sex','Age','SibSp','Parch','Fare','Embarked','Title']\n#categorical = ['Sex','Embarked','Title']\n\nfeatures = ['Pclass','Sex','Age','SibSp','Parch','Fare']\ncategorical = ['Sex']\n\ny = ['Survived']",
      "execution_count": null,
      "outputs": []
    },
    {
      "metadata": {
        "_cell_guid": "85cb7bda-bddc-435c-8dcd-af2f46d1e736",
        "collapsed": true,
        "_uuid": "a124723760552aa407a6056f391abf4bb046af53",
        "trusted": false
      },
      "cell_type": "code",
      "source": "le = LabelEncoder()\ntrain_df['Sex'] = le.fit_transform(train_df['Sex'])\n\nle = LabelEncoder()\ntest_df['Sex'] = le.fit_transform(test_df['Sex'])",
      "execution_count": null,
      "outputs": []
    },
    {
      "metadata": {
        "_cell_guid": "f5082519-4c25-4227-a0b8-4824daff014c",
        "collapsed": true,
        "_uuid": "e6a3daeeb54706a8602b553dcff4cd2ce7a8d1a4",
        "trusted": false
      },
      "cell_type": "code",
      "source": "train_x = train_df[features].as_matrix()\ntest_x = test_df[features].as_matrix()\ntrain_y = train_df['Survived']",
      "execution_count": null,
      "outputs": []
    },
    {
      "metadata": {
        "_cell_guid": "7d09e7f2-e741-48ed-91e2-88ba5045a6be",
        "_uuid": "42b9256ac729d6484dfe8e1d272c3592295aeb05",
        "trusted": false,
        "collapsed": true
      },
      "cell_type": "code",
      "source": "train_x",
      "execution_count": null,
      "outputs": []
    },
    {
      "metadata": {
        "_cell_guid": "551c18e0-bff4-4abf-b964-c110079e1855",
        "_uuid": "065a0fb97d98957aa684680b5718c15b00c2ddd3",
        "trusted": false,
        "collapsed": true
      },
      "cell_type": "code",
      "source": "gbm = xgb.XGBClassifier(max_depth=5, n_estimators=250, learning_rate=0.05).fit(train_x, train_y)\npredictions = gbm.predict(test_x)",
      "execution_count": null,
      "outputs": []
    },
    {
      "metadata": {
        "_cell_guid": "85032557-5a43-4b3e-893c-9949e23b92b5",
        "collapsed": true,
        "_uuid": "aea8e832d988ff5f1c5c8b84029b70c24be17bd4",
        "trusted": false
      },
      "cell_type": "code",
      "source": "submit_preds = pd.DataFrame({ 'PassengerId': test_df['PassengerId'], 'Survived': predictions })\nsubmit_preds.to_csv(\"submit_preds.csv\", index=False)",
      "execution_count": null,
      "outputs": []
    }
  ],
  "metadata": {
    "kernelspec": {
      "display_name": "Python 3",
      "language": "python",
      "name": "python3"
    },
    "language_info": {
      "pygments_lexer": "ipython3",
      "nbconvert_exporter": "python",
      "codemirror_mode": {
        "name": "ipython",
        "version": 3
      },
      "mimetype": "text/x-python",
      "name": "python",
      "file_extension": ".py",
      "version": "3.6.4"
    }
  },
  "nbformat": 4,
  "nbformat_minor": 1
}
